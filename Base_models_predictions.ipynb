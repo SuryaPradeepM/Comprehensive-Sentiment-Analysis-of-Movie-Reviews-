{
  "nbformat": 4,
  "nbformat_minor": 0,
  "metadata": {
    "colab": {
      "name": "Base_models_predictions.ipynb",
      "provenance": [],
      "collapsed_sections": []
    },
    "kernelspec": {
      "name": "python3",
      "display_name": "Python 3"
    },
    "accelerator": "TPU"
  },
  "cells": [
    {
      "cell_type": "markdown",
      "metadata": {
        "id": "BwHnrfthGR3B",
        "colab_type": "text"
      },
      "source": [
        "# <h1 align= 'center'>Base Models</h1>"
      ]
    },
    {
      "cell_type": "code",
      "metadata": {
        "id": "SgEMsltsGly8",
        "colab_type": "code",
        "outputId": "3169e4bb-114b-4f26-8d0d-5aff55e8f278",
        "colab": {
          "base_uri": "https://localhost:8080/",
          "height": 72
        }
      },
      "source": [
        "import numpy as np\n",
        "import pandas as pd\n",
        "import seaborn as sns\n",
        "import matplotlib.pyplot as plt\n",
        "import pickle\n",
        "\n",
        "from sklearn.model_selection import train_test_split, RandomizedSearchCV, GridSearchCV\n",
        "from sklearn.metrics import accuracy_score, confusion_matrix, roc_auc_score\n",
        "from sklearn.linear_model import LogisticRegressionCV, LogisticRegression, SGDClassifier\n",
        "from sklearn.svm import LinearSVC\n",
        "from sklearn.naive_bayes import MultinomialNB\n",
        "from sklearn.ensemble import RandomForestClassifier\n",
        "from xgboost.sklearn import XGBClassifier\n",
        "\n",
        "from scipy.stats import uniform\n",
        "from pprint import pprint\n",
        "import warnings\n",
        "warnings.filterwarnings('ignore')"
      ],
      "execution_count": 2,
      "outputs": [
        {
          "output_type": "stream",
          "text": [
            "/usr/local/lib/python3.6/dist-packages/statsmodels/tools/_testing.py:19: FutureWarning: pandas.util.testing is deprecated. Use the functions in the public API at pandas.testing instead.\n",
            "  import pandas.util.testing as tm\n"
          ],
          "name": "stderr"
        }
      ]
    },
    {
      "cell_type": "markdown",
      "metadata": {
        "id": "oWGHsg9rGe_T",
        "colab_type": "text"
      },
      "source": [
        "## <h2> <center>Load preprocessed data</center></h2>"
      ]
    },
    {
      "cell_type": "code",
      "metadata": {
        "id": "bnDZnd5uklT4",
        "colab_type": "code",
        "colab": {
          "base_uri": "https://localhost:8080/",
          "height": 281
        },
        "outputId": "99a4f9dc-8570-4f81-f3ce-f50eff5fd3a5"
      },
      "source": [
        "# for importing data to colab\n",
        "from google.colab import drive \n",
        "drive.mount('/content/drive')\n",
        "\n",
        "movies = pd.read_csv('/content/drive/My Drive/Colab Notebooks/cleaned_data.csv')\n",
        "movies.sample(7)"
      ],
      "execution_count": 3,
      "outputs": [
        {
          "output_type": "stream",
          "text": [
            "Drive already mounted at /content/drive; to attempt to forcibly remount, call drive.mount(\"/content/drive\", force_remount=True).\n"
          ],
          "name": "stdout"
        },
        {
          "output_type": "execute_result",
          "data": {
            "text/html": [
              "<div>\n",
              "<style scoped>\n",
              "    .dataframe tbody tr th:only-of-type {\n",
              "        vertical-align: middle;\n",
              "    }\n",
              "\n",
              "    .dataframe tbody tr th {\n",
              "        vertical-align: top;\n",
              "    }\n",
              "\n",
              "    .dataframe thead th {\n",
              "        text-align: right;\n",
              "    }\n",
              "</style>\n",
              "<table border=\"1\" class=\"dataframe\">\n",
              "  <thead>\n",
              "    <tr style=\"text-align: right;\">\n",
              "      <th></th>\n",
              "      <th>Unnamed: 0</th>\n",
              "      <th>review</th>\n",
              "      <th>sentiment</th>\n",
              "    </tr>\n",
              "  </thead>\n",
              "  <tbody>\n",
              "    <tr>\n",
              "      <th>24052</th>\n",
              "      <td>24052</td>\n",
              "      <td>understand go could various way continu line d...</td>\n",
              "      <td>1</td>\n",
              "    </tr>\n",
              "    <tr>\n",
              "      <th>21737</th>\n",
              "      <td>21737</td>\n",
              "      <td>warm sweet remark charm two antagonist worker ...</td>\n",
              "      <td>1</td>\n",
              "    </tr>\n",
              "    <tr>\n",
              "      <th>42528</th>\n",
              "      <td>42528</td>\n",
              "      <td>ok rent sever year ago worst expect yes act gr...</td>\n",
              "      <td>1</td>\n",
              "    </tr>\n",
              "    <tr>\n",
              "      <th>5418</th>\n",
              "      <td>5418</td>\n",
              "      <td>citi hall somewhat mix bag part vignett nyc po...</td>\n",
              "      <td>1</td>\n",
              "    </tr>\n",
              "    <tr>\n",
              "      <th>4406</th>\n",
              "      <td>4406</td>\n",
              "      <td>know mayb mood kind full trite melodrama long ...</td>\n",
              "      <td>0</td>\n",
              "    </tr>\n",
              "    <tr>\n",
              "      <th>3081</th>\n",
              "      <td>3081</td>\n",
              "      <td>recal see kid recal saw must around 14 year ol...</td>\n",
              "      <td>1</td>\n",
              "    </tr>\n",
              "    <tr>\n",
              "      <th>16813</th>\n",
              "      <td>16813</td>\n",
              "      <td>revolut terribl care histori teacher news writ...</td>\n",
              "      <td>0</td>\n",
              "    </tr>\n",
              "  </tbody>\n",
              "</table>\n",
              "</div>"
            ],
            "text/plain": [
              "       Unnamed: 0                                             review  sentiment\n",
              "24052       24052  understand go could various way continu line d...          1\n",
              "21737       21737  warm sweet remark charm two antagonist worker ...          1\n",
              "42528       42528  ok rent sever year ago worst expect yes act gr...          1\n",
              "5418         5418  citi hall somewhat mix bag part vignett nyc po...          1\n",
              "4406         4406  know mayb mood kind full trite melodrama long ...          0\n",
              "3081         3081  recal see kid recal saw must around 14 year ol...          1\n",
              "16813       16813  revolut terribl care histori teacher news writ...          0"
            ]
          },
          "metadata": {
            "tags": []
          },
          "execution_count": 3
        }
      ]
    },
    {
      "cell_type": "code",
      "metadata": {
        "id": "hdS_L0eFGdcj",
        "colab_type": "code",
        "colab": {}
      },
      "source": [
        "# read from local dataset\n",
        "# movies = pd.read_csv('data/imdb_data.csv')\n",
        "# movies.sample(7)"
      ],
      "execution_count": 0,
      "outputs": []
    },
    {
      "cell_type": "markdown",
      "metadata": {
        "id": "aHQ1COdNzuHh",
        "colab_type": "text"
      },
      "source": [
        "## <h2> <center>Text feature extraction</center></h2>"
      ]
    },
    {
      "cell_type": "code",
      "metadata": {
        "id": "RyxHH1RB6lnG",
        "colab_type": "code",
        "outputId": "12b7afe9-d004-482f-a0bb-77c970b7d463",
        "colab": {
          "base_uri": "https://localhost:8080/",
          "height": 34
        }
      },
      "source": [
        "# todo: normalize if overfit\n",
        "from sklearn.feature_extraction.text import TfidfVectorizer\n",
        "from sklearn.feature_selection import SelectKBest, f_classif\n",
        "\n",
        "\n",
        "top_k = 15000\n",
        "\n",
        "tfidf = TfidfVectorizer(\n",
        "                    ngram_range = (1,2),\n",
        "                    dtype = 'int32',\n",
        "                    decode_error = 'replace',\n",
        "                    analyzer = 'word',\n",
        "                    min_df = 2,\n",
        "                    norm = 'l2'\n",
        "                    )\n",
        "tfidf_reviews = tfidf.fit_transform(movies['review'])\n",
        "\n",
        "# Select best 10,000(k) features, with feature importance measured by f_classif\n",
        "selector = SelectKBest(f_classif, k = min(top_k, tfidf_reviews.shape[1]))\n",
        "selector.fit(tfidf_reviews, movies['sentiment'])\n",
        "vect_reviews = selector.transform(tfidf_reviews).astype('float32')\n",
        "\n",
        "vect_reviews.shape"
      ],
      "execution_count": 5,
      "outputs": [
        {
          "output_type": "execute_result",
          "data": {
            "text/plain": [
              "(50000, 15000)"
            ]
          },
          "metadata": {
            "tags": []
          },
          "execution_count": 5
        }
      ]
    },
    {
      "cell_type": "markdown",
      "metadata": {
        "id": "SWuOj6_M3Py2",
        "colab_type": "text"
      },
      "source": [
        "## <h2> <center>Split the data</center></h2>"
      ]
    },
    {
      "cell_type": "code",
      "metadata": {
        "id": "x4UrMguq6lkM",
        "colab_type": "code",
        "outputId": "15b64f5b-3e04-4e29-b4a9-66e92781b330",
        "colab": {
          "base_uri": "https://localhost:8080/",
          "height": 52
        }
      },
      "source": [
        "X = vect_reviews.toarray()\n",
        "y = (np.array(movies['sentiment']))\n",
        "\n",
        "# Here we split data to training and testing parts\n",
        "X_train, X_test, y_train, y_test = train_test_split(X, y, test_size=0.2, random_state=7)\n",
        "print(f\"Train dataset shape: {X_train.shape}, \\nTest dataset shape: {X_test.shape}\")"
      ],
      "execution_count": 6,
      "outputs": [
        {
          "output_type": "stream",
          "text": [
            "Train dataset shape: (40000, 15000), \n",
            "Test dataset shape: (10000, 15000)\n"
          ],
          "name": "stdout"
        }
      ]
    },
    {
      "cell_type": "code",
      "metadata": {
        "id": "264tvFeBzjcx",
        "colab_type": "code",
        "colab": {}
      },
      "source": [
        "def plot_confusion_matrix(y_true, y_pred, ax, class_names  = ['Positive', 'Negative'], vmax=None,\n",
        "                           normalized=True, title='Confusion matrix'):\n",
        "    \"\"\"\n",
        "    Helper fuction to generate a clean Confusion Matrix using seaborn library.\n",
        "    y_true: True labels, y_pred: Model Predictions, class_names: Override if needed\n",
        "    normalized: True, gives the proportions instead of absolute numbers\n",
        "    \"\"\"\n",
        "    matrix = confusion_matrix(y_true,y_pred)\n",
        "    if normalized:\n",
        "        matrix = matrix.astype('float') / matrix.sum(axis=1)[:, np.newaxis]\n",
        "    annot_kws = {'fontsize':25, \n",
        "                'fontstyle': 'italic'}\n",
        "    sns.heatmap(matrix, vmax=vmax, annot=True,  annot_kws = annot_kws,\n",
        "                square=True, ax=ax, cbar=False,\n",
        "                cmap=sns.diverging_palette(20, 250, as_cmap=True), \n",
        "                linecolor='black', linewidths=0.5,\n",
        "                xticklabels=class_names)\n",
        "    ax.set_title(title, y=1.20, fontsize=16)\n",
        "    ax.set_ylabel('True labels', fontsize=12)\n",
        "    ax.set_xlabel('Predicted labels', y=1.10, fontsize=12)\n",
        "    ax.set_yticklabels(class_names, rotation=0)"
      ],
      "execution_count": 0,
      "outputs": []
    },
    {
      "cell_type": "markdown",
      "metadata": {
        "id": "NYCD63W63uom",
        "colab_type": "text"
      },
      "source": [
        "## <h2> <center>Modeling the data</center></h2>"
      ]
    },
    {
      "cell_type": "markdown",
      "metadata": {
        "id": "A2kiZWgA32OW",
        "colab_type": "text"
      },
      "source": [
        "### <h2> <center>Base Logistic Regression model</center></h2>"
      ]
    },
    {
      "cell_type": "code",
      "metadata": {
        "id": "tdRDnmIr8ktM",
        "colab_type": "code",
        "outputId": "99fe85dd-0ec1-4480-86c5-81510fdc68ea",
        "colab": {
          "base_uri": "https://localhost:8080/",
          "height": 105
        }
      },
      "source": [
        "lr=LogisticRegression(max_iter=500 ,random_state=7, \n",
        "                      C = 10, penalty = 'l2') # found from Random Search \n",
        "lr.fit(X_train, y_train)"
      ],
      "execution_count": 8,
      "outputs": [
        {
          "output_type": "execute_result",
          "data": {
            "text/plain": [
              "LogisticRegression(C=10, class_weight=None, dual=False, fit_intercept=True,\n",
              "                   intercept_scaling=1, l1_ratio=None, max_iter=500,\n",
              "                   multi_class='auto', n_jobs=None, penalty='l2',\n",
              "                   random_state=7, solver='lbfgs', tol=0.0001, verbose=0,\n",
              "                   warm_start=False)"
            ]
          },
          "metadata": {
            "tags": []
          },
          "execution_count": 8
        }
      ]
    },
    {
      "cell_type": "code",
      "metadata": {
        "id": "ToZygKsC32qu",
        "colab_type": "code",
        "outputId": "aec835e5-9983-454b-f3f1-b87eb4a888e4",
        "colab": {
          "base_uri": "https://localhost:8080/",
          "height": 52
        }
      },
      "source": [
        "pred = lr.predict(X_test)\n",
        "pred_train = lr.predict(X_train)\n",
        "print(\"Training set Accuracy: \", accuracy_score(pred_train, y_train)*100)\n",
        "print(\"Test set Accuracy: \", accuracy_score(pred, y_test)*100)"
      ],
      "execution_count": 9,
      "outputs": [
        {
          "output_type": "stream",
          "text": [
            "Training set Accuracy:  93.8425\n",
            "Test set Accuracy:  90.79\n"
          ],
          "name": "stdout"
        }
      ]
    },
    {
      "cell_type": "code",
      "metadata": {
        "id": "CcP1ntPtzqNg",
        "colab_type": "code",
        "outputId": "e9ec7e3e-e3a3-4d31-c79f-f8e16d6cc7e9",
        "colab": {
          "base_uri": "https://localhost:8080/",
          "height": 300
        }
      },
      "source": [
        "fig, axis1 = plt.subplots(nrows=1, ncols=1)\n",
        "plot_confusion_matrix(y_test, pred, ax=axis1,\n",
        "                       title='Confusion matrix (lr)')"
      ],
      "execution_count": 10,
      "outputs": [
        {
          "output_type": "display_data",
          "data": {
            "image/png": "[encoded data removed]",
            "text/plain": [
              "<Figure size 432x288 with 1 Axes>"
            ]
          },
          "metadata": {
            "tags": [],
            "needs_background": "light"
          }
        }
      ]
    },
    {
      "cell_type": "code",
      "metadata": {
        "id": "_GJ3eODG321r",
        "colab_type": "code",
        "outputId": "7dc93570-0eb5-4b1f-87f6-95a7a46972c7",
        "colab": {
          "base_uri": "https://localhost:8080/",
          "height": 34
        }
      },
      "source": [
        "penalty = ['l2', 'l1']\n",
        "# Create regularization hyperparameter distribution using uniform distribution\n",
        "C = [0.1, 10, 100]\n",
        "logistic = LogisticRegression()\n",
        "# Create hyperparameter options\n",
        "hyperparameters = dict(C=C, penalty=penalty)\n",
        "pprint(hyperparameters)\n",
        "lr_best = GridSearchCV(logistic, hyperparameters, scoring = 'accuracy',\n",
        "                       cv = 2, verbose = 0, refit=True, return_train_score = True)"
      ],
      "execution_count": 11,
      "outputs": [
        {
          "output_type": "stream",
          "text": [
            "{'C': [0.1, 10, 100], 'penalty': ['l2', 'l1']}\n"
          ],
          "name": "stdout"
        }
      ]
    },
    {
      "cell_type": "code",
      "metadata": {
        "id": "TLUlR4Yi326-",
        "colab_type": "code",
        "outputId": "a2e8d03f-f8a8-4abf-eb0b-61a096a53bf5",
        "colab": {
          "base_uri": "https://localhost:8080/",
          "height": 246
        }
      },
      "source": [
        "lr_best.fit(X_train, y_train)"
      ],
      "execution_count": 12,
      "outputs": [
        {
          "output_type": "execute_result",
          "data": {
            "text/plain": [
              "GridSearchCV(cv=2, error_score=nan,\n",
              "             estimator=LogisticRegression(C=1.0, class_weight=None, dual=False,\n",
              "                                          fit_intercept=True,\n",
              "                                          intercept_scaling=1, l1_ratio=None,\n",
              "                                          max_iter=100, multi_class='auto',\n",
              "                                          n_jobs=None, penalty='l2',\n",
              "                                          random_state=None, solver='lbfgs',\n",
              "                                          tol=0.0001, verbose=0,\n",
              "                                          warm_start=False),\n",
              "             iid='deprecated', n_jobs=None,\n",
              "             param_grid={'C': [0.1, 10, 100], 'penalty': ['l2', 'l1']},\n",
              "             pre_dispatch='2*n_jobs', refit=True, return_train_score=True,\n",
              "             scoring='accuracy', verbose=0)"
            ]
          },
          "metadata": {
            "tags": []
          },
          "execution_count": 12
        }
      ]
    },
    {
      "cell_type": "code",
      "metadata": {
        "id": "1mg3SMY733CI",
        "colab_type": "code",
        "outputId": "2fd53872-ff8d-4b11-9380-094427ff8827",
        "colab": {
          "base_uri": "https://localhost:8080/",
          "height": 70
        }
      },
      "source": [
        "lr_best_penalty = lr_best.best_estimator_.get_params()['penalty']\n",
        "lr_best_c = lr_best.best_estimator_.get_params()['C']\n",
        "print(f'Best Penalty: {lr_best_penalty}')\n",
        "print(f'Best C: {lr_best_c}')\n",
        "\n",
        "pprint(lr_best.best_params_)"
      ],
      "execution_count": 13,
      "outputs": [
        {
          "output_type": "stream",
          "text": [
            "Best Penalty: l2\n",
            "Best C: 10\n",
            "{'C': 10, 'penalty': 'l2'}\n"
          ],
          "name": "stdout"
        }
      ]
    },
    {
      "cell_type": "code",
      "metadata": {
        "id": "VoiwUsvU33Gz",
        "colab_type": "code",
        "outputId": "a0e93fb2-f90a-498e-e87f-d36b987397f8",
        "colab": {
          "base_uri": "https://localhost:8080/",
          "height": 52
        }
      },
      "source": [
        "pred = lr_best.predict(X_test)\n",
        "pred_train = lr_best.predict(X_train)\n",
        "print(\"Training set Accuracy: \", accuracy_score(pred_train, y_train)*100)\n",
        "print(\"Test set Accuracy: \", accuracy_score(pred, y_test)*100)"
      ],
      "execution_count": 14,
      "outputs": [
        {
          "output_type": "stream",
          "text": [
            "Training set Accuracy:  93.8425\n",
            "Test set Accuracy:  90.79\n"
          ],
          "name": "stdout"
        }
      ]
    },
    {
      "cell_type": "code",
      "metadata": {
        "id": "sItAbo4_lmxk",
        "colab_type": "code",
        "colab": {
          "base_uri": "https://localhost:8080/",
          "height": 300
        },
        "outputId": "32ffe1bb-2710-48e0-e2fc-e0ac2c6f2c11"
      },
      "source": [
        "fig, axis1 = plt.subplots(nrows=1, ncols=1)\n",
        "plot_confusion_matrix(y_test, pred, ax=axis1,\n",
        "                       title='Confusion matrix (lr)')"
      ],
      "execution_count": 15,
      "outputs": [
        {
          "output_type": "display_data",
          "data": {
            "image/png": "[encoded data removed]",
            "text/plain": [
              "<Figure size 432x288 with 1 Axes>"
            ]
          },
          "metadata": {
            "tags": [],
            "needs_background": "light"
          }
        }
      ]
    },
    {
      "cell_type": "markdown",
      "metadata": {
        "id": "7ZVPi9WvNSBa",
        "colab_type": "text"
      },
      "source": [
        "### <h2> <center>SVM Classifier</center></h2>"
      ]
    },
    {
      "cell_type": "code",
      "metadata": {
        "id": "6DfHwVYS33MX",
        "colab_type": "code",
        "outputId": "cf8623d0-17ab-493a-c353-539fe4ece259",
        "colab": {
          "base_uri": "https://localhost:8080/",
          "height": 123
        }
      },
      "source": [
        "svm = SGDClassifier(random_state = 7, penalty = 'l2', loss = 'hinge')\n",
        "\n",
        "svm.fit(X_train,y_train)"
      ],
      "execution_count": 16,
      "outputs": [
        {
          "output_type": "execute_result",
          "data": {
            "text/plain": [
              "SGDClassifier(alpha=0.0001, average=False, class_weight=None,\n",
              "              early_stopping=False, epsilon=0.1, eta0=0.0, fit_intercept=True,\n",
              "              l1_ratio=0.15, learning_rate='optimal', loss='hinge',\n",
              "              max_iter=1000, n_iter_no_change=5, n_jobs=None, penalty='l2',\n",
              "              power_t=0.5, random_state=7, shuffle=True, tol=0.001,\n",
              "              validation_fraction=0.1, verbose=0, warm_start=False)"
            ]
          },
          "metadata": {
            "tags": []
          },
          "execution_count": 16
        }
      ]
    },
    {
      "cell_type": "code",
      "metadata": {
        "id": "LPmUcLrd33Rg",
        "colab_type": "code",
        "outputId": "03a1b528-c9ba-4b21-fbca-956848554eb9",
        "colab": {
          "base_uri": "https://localhost:8080/",
          "height": 52
        }
      },
      "source": [
        "pred = svm.predict(X_test)\n",
        "pred_train = svm.predict(X_train)\n",
        "print(\"Training set Accuracy: \", accuracy_score(pred_train, y_train)*100)\n",
        "print(\"Test set Accuracy: \", accuracy_score(pred, y_test)*100)"
      ],
      "execution_count": 17,
      "outputs": [
        {
          "output_type": "stream",
          "text": [
            "Training set Accuracy:  89.8475\n",
            "Test set Accuracy:  89.13\n"
          ],
          "name": "stdout"
        }
      ]
    },
    {
      "cell_type": "code",
      "metadata": {
        "id": "wpYTp92f0duS",
        "colab_type": "code",
        "outputId": "38436593-e6fa-4ae8-9528-6e9e001d9dd0",
        "colab": {
          "base_uri": "https://localhost:8080/",
          "height": 300
        }
      },
      "source": [
        "fig, axis1 = plt.subplots(nrows=1, ncols=1)\n",
        "plot_confusion_matrix(y_test, pred, ax=axis1,\n",
        "                       title='Confusion matrix (svm)',\n",
        "                       class_names=['Positive', 'Negative'])"
      ],
      "execution_count": 18,
      "outputs": [
        {
          "output_type": "display_data",
          "data": {
            "image/png": "[encoded data removed]",
            "text/plain": [
              "<Figure size 432x288 with 1 Axes>"
            ]
          },
          "metadata": {
            "tags": [],
            "needs_background": "light"
          }
        }
      ]
    },
    {
      "cell_type": "markdown",
      "metadata": {
        "id": "XcQ3QQKInjiM",
        "colab_type": "text"
      },
      "source": [
        "### <h2> <center>Linear SVC</center></h2>"
      ]
    },
    {
      "cell_type": "code",
      "metadata": {
        "id": "a4KVrKQ7nkjC",
        "colab_type": "code",
        "colab": {
          "base_uri": "https://localhost:8080/",
          "height": 87
        },
        "outputId": "7692dda7-c004-4ba1-d755-9bd1a6dacc70"
      },
      "source": [
        "svc = LinearSVC(random_state = 7)\n",
        "svc.fit(X_train, y_train)"
      ],
      "execution_count": 19,
      "outputs": [
        {
          "output_type": "execute_result",
          "data": {
            "text/plain": [
              "LinearSVC(C=1.0, class_weight=None, dual=True, fit_intercept=True,\n",
              "          intercept_scaling=1, loss='squared_hinge', max_iter=1000,\n",
              "          multi_class='ovr', penalty='l2', random_state=7, tol=0.0001,\n",
              "          verbose=0)"
            ]
          },
          "metadata": {
            "tags": []
          },
          "execution_count": 19
        }
      ]
    },
    {
      "cell_type": "code",
      "metadata": {
        "id": "TnhIB8WgnkyC",
        "colab_type": "code",
        "colab": {
          "base_uri": "https://localhost:8080/",
          "height": 52
        },
        "outputId": "e829fe1f-3417-4b4c-a33b-c5b88c27c9dd"
      },
      "source": [
        "pred = svc.predict(X_test)\n",
        "pred_train = svc.predict(X_train)\n",
        "print(\"Training set Accuracy: \", accuracy_score(pred_train, y_train)*100)\n",
        "print(\"Test set Accuracy: \", accuracy_score(pred, y_test)*100)"
      ],
      "execution_count": 20,
      "outputs": [
        {
          "output_type": "stream",
          "text": [
            "Training set Accuracy:  94.08999999999999\n",
            "Test set Accuracy:  91.08000000000001\n"
          ],
          "name": "stdout"
        }
      ]
    },
    {
      "cell_type": "code",
      "metadata": {
        "id": "f2JjrsyunlCc",
        "colab_type": "code",
        "colab": {
          "base_uri": "https://localhost:8080/",
          "height": 300
        },
        "outputId": "3add1349-7dff-4d0e-b022-878ae420ad0f"
      },
      "source": [
        "fig, axis1 = plt.subplots(nrows=1, ncols=1)\n",
        "plot_confusion_matrix(y_test, pred, ax=axis1,\n",
        "                       title='Confusion matrix (svc)',\n",
        "                       class_names=['Positive', 'Negative'])"
      ],
      "execution_count": 21,
      "outputs": [
        {
          "output_type": "display_data",
          "data": {
            "image/png": "[encoded data removed]",
            "text/plain": [
              "<Figure size 432x288 with 1 Axes>"
            ]
          },
          "metadata": {
            "tags": [],
            "needs_background": "light"
          }
        }
      ]
    },
    {
      "cell_type": "code",
      "metadata": {
        "id": "NGykT55IoORb",
        "colab_type": "code",
        "colab": {
          "base_uri": "https://localhost:8080/",
          "height": 87
        },
        "outputId": "2f6a0bcc-85db-4f82-c74e-e5d64c20bf1d"
      },
      "source": [
        "losses = [\"hinge\", \"squared_hinge\"]\n",
        "duals = [False, True]\n",
        "learning_rates = [1e-1, 1, 10]\n",
        "penalties = [\"l1\", \"l2\"]\n",
        "\n",
        "hyperparam = {\n",
        "    \"C\": learning_rates,\n",
        "    \"penalty\": penalties,\n",
        "    \"loss\": losses,\n",
        "    \"dual\": duals\n",
        "    }\n",
        "pprint(hyperparam)\n",
        "svc = LinearSVC()\n",
        "\n",
        "n_iter = 50\n",
        "svc_random = RandomizedSearchCV(svc, hyperparam, cv=2, scoring = 'accuracy',\n",
        "                                verbose=0, refit = True)"
      ],
      "execution_count": 22,
      "outputs": [
        {
          "output_type": "stream",
          "text": [
            "{'C': [0.1, 1, 10],\n",
            " 'dual': [False, True],\n",
            " 'loss': ['hinge', 'squared_hinge'],\n",
            " 'penalty': ['l1', 'l2']}\n"
          ],
          "name": "stdout"
        }
      ]
    },
    {
      "cell_type": "code",
      "metadata": {
        "id": "T93N_PcboN_y",
        "colab_type": "code",
        "colab": {
          "base_uri": "https://localhost:8080/",
          "height": 264
        },
        "outputId": "18b1c140-a90d-425d-be3a-5b3268cfdc5a"
      },
      "source": [
        "svc_random.fit(X_train, y_train)"
      ],
      "execution_count": 23,
      "outputs": [
        {
          "output_type": "execute_result",
          "data": {
            "text/plain": [
              "RandomizedSearchCV(cv=2, error_score=nan,\n",
              "                   estimator=LinearSVC(C=1.0, class_weight=None, dual=True,\n",
              "                                       fit_intercept=True, intercept_scaling=1,\n",
              "                                       loss='squared_hinge', max_iter=1000,\n",
              "                                       multi_class='ovr', penalty='l2',\n",
              "                                       random_state=None, tol=0.0001,\n",
              "                                       verbose=0),\n",
              "                   iid='deprecated', n_iter=10, n_jobs=None,\n",
              "                   param_distributions={'C': [0.1, 1, 10],\n",
              "                                        'dual': [False, True],\n",
              "                                        'loss': ['hinge', 'squared_hinge'],\n",
              "                                        'penalty': ['l1', 'l2']},\n",
              "                   pre_dispatch='2*n_jobs', random_state=None, refit=True,\n",
              "                   return_train_score=False, scoring='accuracy', verbose=0)"
            ]
          },
          "metadata": {
            "tags": []
          },
          "execution_count": 23
        }
      ]
    },
    {
      "cell_type": "code",
      "metadata": {
        "id": "2v_GGR34pw8t",
        "colab_type": "code",
        "colab": {
          "base_uri": "https://localhost:8080/",
          "height": 34
        },
        "outputId": "235a6d23-6d32-405e-a9fa-1f0d25b28994"
      },
      "source": [
        "pprint(svc_random.best_params_)"
      ],
      "execution_count": 24,
      "outputs": [
        {
          "output_type": "stream",
          "text": [
            "{'C': 1, 'dual': True, 'loss': 'hinge', 'penalty': 'l2'}\n"
          ],
          "name": "stdout"
        }
      ]
    },
    {
      "cell_type": "code",
      "metadata": {
        "id": "Aw5InU6tpw4t",
        "colab_type": "code",
        "colab": {
          "base_uri": "https://localhost:8080/",
          "height": 52
        },
        "outputId": "31e1dc08-5166-4485-c7a9-dc8b265d5d86"
      },
      "source": [
        "pred = svc_random.predict(X_test)\n",
        "pred_train = svc_random.predict(X_train)\n",
        "print(\"Training set Accuracy: \", accuracy_score(pred_train, y_train)*100)\n",
        "print(\"Test set Accuracy: \", accuracy_score(pred, y_test)*100)"
      ],
      "execution_count": 25,
      "outputs": [
        {
          "output_type": "stream",
          "text": [
            "Training set Accuracy:  91.945\n",
            "Test set Accuracy:  90.23\n"
          ],
          "name": "stdout"
        }
      ]
    },
    {
      "cell_type": "code",
      "metadata": {
        "id": "pmUGtFJcpw0m",
        "colab_type": "code",
        "colab": {
          "base_uri": "https://localhost:8080/",
          "height": 300
        },
        "outputId": "77063e76-2573-4042-d6d8-ae930d3b46d4"
      },
      "source": [
        "fig, axis1 = plt.subplots(nrows=1, ncols=1)\n",
        "plot_confusion_matrix(y_test, pred, ax=axis1,\n",
        "                       title='Confusion matrix (svc)',\n",
        "                       class_names=['Positive', 'Negative'])"
      ],
      "execution_count": 26,
      "outputs": [
        {
          "output_type": "display_data",
          "data": {
            "image/png": "[encoded data removed]",
            "text/plain": [
              "<Figure size 432x288 with 1 Axes>"
            ]
          },
          "metadata": {
            "tags": [],
            "needs_background": "light"
          }
        }
      ]
    },
    {
      "cell_type": "markdown",
      "metadata": {
        "id": "-mcblkUzWpzW",
        "colab_type": "text"
      },
      "source": [
        "### <h2> <center>Multinomial Bayes Classifier</center></h2>"
      ]
    },
    {
      "cell_type": "code",
      "metadata": {
        "id": "ZEh4kqL032_6",
        "colab_type": "code",
        "outputId": "b32f9be2-82a2-4c9c-b9d7-8a79ee64665b",
        "colab": {
          "base_uri": "https://localhost:8080/",
          "height": 34
        }
      },
      "source": [
        "#training the model\n",
        "mnb = MultinomialNB(alpha = 0.001) # best alpha found from Grid Search\n",
        "#fitting the svm for bag of words\n",
        "mnb.fit(X_train, y_train)"
      ],
      "execution_count": 27,
      "outputs": [
        {
          "output_type": "execute_result",
          "data": {
            "text/plain": [
              "MultinomialNB(alpha=0.001, class_prior=None, fit_prior=True)"
            ]
          },
          "metadata": {
            "tags": []
          },
          "execution_count": 27
        }
      ]
    },
    {
      "cell_type": "code",
      "metadata": {
        "id": "A3RJ_dZy3294",
        "colab_type": "code",
        "outputId": "ff7c4ccd-16b3-4d87-e682-5c2074fd69dc",
        "colab": {
          "base_uri": "https://localhost:8080/",
          "height": 52
        }
      },
      "source": [
        "pred = mnb.predict(X_test)\n",
        "pred_train = mnb.predict(X_train)\n",
        "print(\"Training set Accuracy: \", accuracy_score(pred_train, y_train)*100)\n",
        "print(\"Test set Accuracy: \", accuracy_score(pred, y_test)*100)"
      ],
      "execution_count": 28,
      "outputs": [
        {
          "output_type": "stream",
          "text": [
            "Training set Accuracy:  92.44\n",
            "Test set Accuracy:  91.32000000000001\n"
          ],
          "name": "stdout"
        }
      ]
    },
    {
      "cell_type": "code",
      "metadata": {
        "id": "Kl_CdtLr0lEN",
        "colab_type": "code",
        "outputId": "397c1e3c-e03a-4d5f-b029-27c74f948799",
        "colab": {
          "base_uri": "https://localhost:8080/",
          "height": 300
        }
      },
      "source": [
        "fig, axis1 = plt.subplots(nrows=1, ncols=1)\n",
        "plot_confusion_matrix(y_test, pred, ax=axis1,\n",
        "                       title='Confusion matrix (mnb)')"
      ],
      "execution_count": 29,
      "outputs": [
        {
          "output_type": "display_data",
          "data": {
            "image/png": "[encoded data removed]",
            "text/plain": [
              "<Figure size 432x288 with 1 Axes>"
            ]
          },
          "metadata": {
            "tags": [],
            "needs_background": "light"
          }
        }
      ]
    },
    {
      "cell_type": "code",
      "metadata": {
        "id": "mVuuNHrf324g",
        "colab_type": "code",
        "outputId": "0a56ab3b-f5d8-449b-c3ee-c3dcfff015b6",
        "colab": {
          "base_uri": "https://localhost:8080/",
          "height": 34
        }
      },
      "source": [
        "alpha =  [0.001, 0.003, 0.1, 0.3, 1]\n",
        "hyperparam = dict(alpha = alpha)\n",
        "mnb_best = GridSearchCV(mnb, hyperparam, scoring = 'accuracy', cv = 2, refit = True, verbose = 1, return_train_score = True)\n",
        "pprint(hyperparam)"
      ],
      "execution_count": 30,
      "outputs": [
        {
          "output_type": "stream",
          "text": [
            "{'alpha': [0.001, 0.003, 0.1, 0.3, 1]}\n"
          ],
          "name": "stdout"
        }
      ]
    },
    {
      "cell_type": "code",
      "metadata": {
        "id": "y6UphG0e32z3",
        "colab_type": "code",
        "outputId": "f24d409d-7e13-4e9b-db7e-4e804206d3f5",
        "colab": {
          "base_uri": "https://localhost:8080/",
          "height": 193
        }
      },
      "source": [
        "mnb_best.fit(X_train, y_train)"
      ],
      "execution_count": 31,
      "outputs": [
        {
          "output_type": "stream",
          "text": [
            "Fitting 2 folds for each of 5 candidates, totalling 10 fits\n"
          ],
          "name": "stdout"
        },
        {
          "output_type": "stream",
          "text": [
            "[Parallel(n_jobs=1)]: Using backend SequentialBackend with 1 concurrent workers.\n",
            "[Parallel(n_jobs=1)]: Done  10 out of  10 | elapsed:   47.0s finished\n"
          ],
          "name": "stderr"
        },
        {
          "output_type": "execute_result",
          "data": {
            "text/plain": [
              "GridSearchCV(cv=2, error_score=nan,\n",
              "             estimator=MultinomialNB(alpha=0.001, class_prior=None,\n",
              "                                     fit_prior=True),\n",
              "             iid='deprecated', n_jobs=None,\n",
              "             param_grid={'alpha': [0.001, 0.003, 0.1, 0.3, 1]},\n",
              "             pre_dispatch='2*n_jobs', refit=True, return_train_score=True,\n",
              "             scoring='accuracy', verbose=1)"
            ]
          },
          "metadata": {
            "tags": []
          },
          "execution_count": 31
        }
      ]
    },
    {
      "cell_type": "code",
      "metadata": {
        "id": "0pfCV5SM32yB",
        "colab_type": "code",
        "outputId": "bea0bf7c-dabe-49c8-d388-a474e57e8433",
        "colab": {
          "base_uri": "https://localhost:8080/",
          "height": 34
        }
      },
      "source": [
        "mnb_best_alpha = mnb_best.best_estimator_.get_params()['alpha']\n",
        "print(f'Best alpha: {mnb_best_alpha}')"
      ],
      "execution_count": 32,
      "outputs": [
        {
          "output_type": "stream",
          "text": [
            "Best alpha: 0.001\n"
          ],
          "name": "stdout"
        }
      ]
    },
    {
      "cell_type": "code",
      "metadata": {
        "id": "3lTPDIlye99B",
        "colab_type": "code",
        "outputId": "a89da29f-5703-4f2d-ee6e-bda87ccbab65",
        "colab": {
          "base_uri": "https://localhost:8080/",
          "height": 52
        }
      },
      "source": [
        "pred = mnb_best.predict(X_test)\n",
        "pred_train = mnb_best.predict(X_train)\n",
        "print(\"Training set Accuracy: \", accuracy_score(pred_train, y_train)*100)\n",
        "print(\"Test set Accuracy: \", accuracy_score(pred, y_test)*100)"
      ],
      "execution_count": 34,
      "outputs": [
        {
          "output_type": "stream",
          "text": [
            "Training set Accuracy:  92.44\n",
            "Test set Accuracy:  91.32000000000001\n"
          ],
          "name": "stdout"
        }
      ]
    },
    {
      "cell_type": "code",
      "metadata": {
        "id": "8qMNvUWjs2yH",
        "colab_type": "code",
        "colab": {
          "base_uri": "https://localhost:8080/",
          "height": 300
        },
        "outputId": "d3f55135-5647-4e59-e5f3-85f30eb84ba9"
      },
      "source": [
        "fig, axis1 = plt.subplots(nrows=1, ncols=1)\n",
        "plot_confusion_matrix(y_test, pred, ax=axis1,\n",
        "                       title='Confusion matrix (mnb)')"
      ],
      "execution_count": 35,
      "outputs": [
        {
          "output_type": "display_data",
          "data": {
            "image/png": "[encoded data removed]",
            "text/plain": [
              "<Figure size 432x288 with 1 Axes>"
            ]
          },
          "metadata": {
            "tags": [],
            "needs_background": "light"
          }
        }
      ]
    },
    {
      "cell_type": "markdown",
      "metadata": {
        "id": "32o-rgkxg6SU",
        "colab_type": "text"
      },
      "source": [
        "### <h2> <center>Random Forest Classifier</center></h2>"
      ]
    },
    {
      "cell_type": "code",
      "metadata": {
        "id": "Ciyt74XNe-RF",
        "colab_type": "code",
        "outputId": "adc0c14b-48cf-46df-c349-0da95a6e8a09",
        "colab": {
          "base_uri": "https://localhost:8080/",
          "height": 158
        }
      },
      "source": [
        "# takes a lot of time ...\n",
        "rf = RandomForestClassifier(max_depth = 100, \n",
        "                            n_estimators = 500,\n",
        "                            min_samples_leaf = 5,\n",
        "                            min_samples_split = 2,\n",
        "                            max_features = 'sqrt',\n",
        "                            random_state = 7)  # found from Random Search\n",
        "\n",
        "rf.fit(X_train, y_train)"
      ],
      "execution_count": 0,
      "outputs": [
        {
          "output_type": "execute_result",
          "data": {
            "text/plain": [
              "RandomForestClassifier(bootstrap=True, ccp_alpha=0.0, class_weight=None,\n",
              "                       criterion='gini', max_depth=100, max_features='sqrt',\n",
              "                       max_leaf_nodes=None, max_samples=None,\n",
              "                       min_impurity_decrease=0.0, min_impurity_split=None,\n",
              "                       min_samples_leaf=5, min_samples_split=2,\n",
              "                       min_weight_fraction_leaf=0.0, n_estimators=500,\n",
              "                       n_jobs=None, oob_score=False, random_state=7, verbose=0,\n",
              "                       warm_start=False)"
            ]
          },
          "metadata": {
            "tags": []
          },
          "execution_count": 16
        }
      ]
    },
    {
      "cell_type": "code",
      "metadata": {
        "id": "41kWlQ8ye-Yb",
        "colab_type": "code",
        "outputId": "a8814ec3-5716-487e-86d7-615f6971bfbc",
        "colab": {
          "base_uri": "https://localhost:8080/",
          "height": 52
        }
      },
      "source": [
        "pred = rf.predict(X_test)\n",
        "pred_train = rf.predict(X_train)\n",
        "print(\"Training set Accuracy: \", accuracy_score(pred_train, y_train)*100)\n",
        "print(\"Test set Accuracy: \", accuracy_score(pred, y_test)*100)"
      ],
      "execution_count": 0,
      "outputs": [
        {
          "output_type": "stream",
          "text": [
            "Training set Accuracy:  95.2325\n",
            "Test set Accuracy:  85.87\n"
          ],
          "name": "stdout"
        }
      ]
    },
    {
      "cell_type": "code",
      "metadata": {
        "id": "Ucw1NBlS0t7F",
        "colab_type": "code",
        "outputId": "6623064a-0e50-4fd2-f3a3-5ce6b8cb8747",
        "colab": {
          "base_uri": "https://localhost:8080/",
          "height": 300
        }
      },
      "source": [
        "fig, axis1 = plt.subplots(nrows=1, ncols=1)\n",
        "plot_confusion_matrix(y_test, pred, ax=axis1,\n",
        "                       title='Confusion matrix (Random Forest)',\n",
        "                       class_names=['Positive', 'Negative'])"
      ],
      "execution_count": 0,
      "outputs": [
        {
          "output_type": "display_data",
          "data": {
            "image/png": "[encoded data removed]",
            "text/plain": [
              "<Figure size 432x288 with 1 Axes>"
            ]
          },
          "metadata": {
            "tags": [],
            "needs_background": "light"
          }
        }
      ]
    },
    {
      "cell_type": "code",
      "metadata": {
        "id": "uKQiYZ1Fe-cP",
        "colab_type": "code",
        "outputId": "8aa62118-8b5a-4be8-cf30-ec77c4bced5e",
        "colab": {
          "base_uri": "https://localhost:8080/",
          "height": 105
        }
      },
      "source": [
        "n_estimators = [int(x) for x in np.linspace(start = 100, stop = 1000, num = 3)]\n",
        "max_features = ['auto', 'sqrt']\n",
        "max_depth = [int(x) for x in np.linspace(10, 100, num = 3)]\n",
        "min_samples_split = [2, 5, 10]\n",
        "min_samples_leaf = [1, 2, 4]\n",
        "bootstrap = [True, False]\n",
        "\n",
        "hyperparam = {'n_estimators': n_estimators,\n",
        "               'max_features': max_features,\n",
        "               'max_depth': max_depth,\n",
        "               'min_samples_split': min_samples_split,\n",
        "               'min_samples_leaf': min_samples_leaf,\n",
        "               }\n",
        "pprint(hyperparam)\n",
        "rf_temp = RandomForestClassifier()\n",
        "rf_random = RandomizedSearchCV(rf_temp, hyperparam, cv = 2, n_iter = 10, verbose = 1,\n",
        "                        refit = False, return_train_score = True)"
      ],
      "execution_count": 0,
      "outputs": [
        {
          "output_type": "stream",
          "text": [
            "{'max_depth': [10, 55, 100],\n",
            " 'max_features': ['auto', 'sqrt'],\n",
            " 'min_samples_leaf': [1, 2, 4],\n",
            " 'min_samples_split': [2, 5, 10],\n",
            " 'n_estimators': [100, 550, 1000]}\n"
          ],
          "name": "stdout"
        }
      ]
    },
    {
      "cell_type": "code",
      "metadata": {
        "id": "zZX_tnCCe-XA",
        "colab_type": "code",
        "colab": {}
      },
      "source": [
        "# takes a lot of time ...\n",
        "# rf_random.fit(X_train, y_train)"
      ],
      "execution_count": 0,
      "outputs": []
    },
    {
      "cell_type": "code",
      "metadata": {
        "id": "x_AEUTjIe-VE",
        "colab_type": "code",
        "colab": {}
      },
      "source": [
        "# pprint(rf_random.best_params_)"
      ],
      "execution_count": 0,
      "outputs": []
    },
    {
      "cell_type": "markdown",
      "metadata": {
        "id": "zFb6H3JyoZGp",
        "colab_type": "text"
      },
      "source": [
        "* The models that performed the best Multinomial Naive Bayes and Support Vector Machine\n",
        "* Random forest seems to be overfitting and is obviously not suited to this task."
      ]
    },
    {
      "cell_type": "code",
      "metadata": {
        "id": "g8Udwt0UkBfu",
        "colab_type": "code",
        "colab": {}
      },
      "source": [
        ""
      ],
      "execution_count": 0,
      "outputs": []
    }
  ]
}