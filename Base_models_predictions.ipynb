{
  "nbformat": 4,
  "nbformat_minor": 0,
  "metadata": {
    "colab": {
      "name": "Base_models_predictions.ipynb",
      "provenance": [],
      "collapsed_sections": [
        "A2kiZWgA32OW",
        "7ZVPi9WvNSBa",
        "-mcblkUzWpzW"
      ]
    },
    "kernelspec": {
      "name": "python3",
      "display_name": "Python 3"
    },
    "accelerator": "TPU"
  },
  "cells": [
    {
      "cell_type": "markdown",
      "metadata": {
        "id": "BwHnrfthGR3B",
        "colab_type": "text"
      },
      "source": [
        "# <h1 align= 'center'>Base Models</h1>"
      ]
    },
    {
      "cell_type": "code",
      "metadata": {
        "id": "SgEMsltsGly8",
        "colab_type": "code",
        "outputId": "f1142df6-c901-45ed-d2e3-600a68bbb84b",
        "colab": {
          "base_uri": "https://localhost:8080/",
          "height": 72
        }
      },
      "source": [
        "import numpy as np\n",
        "import pandas as pd\n",
        "import seaborn as sns\n",
        "import matplotlib.pyplot as plt\n",
        "import pickle\n",
        "\n",
        "from sklearn.model_selection import train_test_split, RandomizedSearchCV, GridSearchCV\n",
        "from sklearn.metrics import accuracy_score, confusion_matrix, roc_auc_score\n",
        "from sklearn.linear_model import LogisticRegressionCV, LogisticRegression, SGDClassifier\n",
        "from sklearn.naive_bayes import MultinomialNB\n",
        "from sklearn.ensemble import RandomForestClassifier\n",
        "from xgboost.sklearn import XGBClassifier\n",
        "\n",
        "from scipy.stats import uniform\n",
        "from pprint import pprint\n",
        "import warnings\n",
        "warnings.filterwarnings('ignore')"
      ],
      "execution_count": 1,
      "outputs": [
        {
          "output_type": "stream",
          "text": [
            "/usr/local/lib/python3.6/dist-packages/statsmodels/tools/_testing.py:19: FutureWarning: pandas.util.testing is deprecated. Use the functions in the public API at pandas.testing instead.\n",
            "  import pandas.util.testing as tm\n"
          ],
          "name": "stderr"
        }
      ]
    },
    {
      "cell_type": "code",
      "metadata": {
        "id": "HOM50cvtGQvo",
        "colab_type": "code",
        "colab": {
          "base_uri": "https://localhost:8080/",
          "height": 54
        },
        "outputId": "0aeb513d-0621-49b1-ad80-74a6006c5103"
      },
      "source": [
        "# for importing data to colab\n",
        "from google.colab import drive \n",
        "drive.mount('/content/drive')\n",
        "\n",
        "# read from local dataset\n",
        "# movies = pd.read_csv('data/imdb_data.csv')\n",
        "# movies.sample(7)"
      ],
      "execution_count": 2,
      "outputs": [
        {
          "output_type": "stream",
          "text": [
            "Drive already mounted at /content/drive; to attempt to forcibly remount, call drive.mount(\"/content/drive\", force_remount=True).\n"
          ],
          "name": "stdout"
        }
      ]
    },
    {
      "cell_type": "markdown",
      "metadata": {
        "id": "oWGHsg9rGe_T",
        "colab_type": "text"
      },
      "source": [
        "## <h2> <center>Load preprocessed data</center></h2>"
      ]
    },
    {
      "cell_type": "code",
      "metadata": {
        "id": "hdS_L0eFGdcj",
        "colab_type": "code",
        "outputId": "6a1e06b3-f04c-45a8-d6ed-35d89a50e1ec",
        "colab": {
          "base_uri": "https://localhost:8080/",
          "height": 263
        }
      },
      "source": [
        "movies = pd.read_csv('/content/drive/My Drive/Colab Notebooks/cleaned_data.csv')\n",
        "movies.sample(7)"
      ],
      "execution_count": 3,
      "outputs": [
        {
          "output_type": "execute_result",
          "data": {
            "text/html": [
              "<div>\n",
              "<style scoped>\n",
              "    .dataframe tbody tr th:only-of-type {\n",
              "        vertical-align: middle;\n",
              "    }\n",
              "\n",
              "    .dataframe tbody tr th {\n",
              "        vertical-align: top;\n",
              "    }\n",
              "\n",
              "    .dataframe thead th {\n",
              "        text-align: right;\n",
              "    }\n",
              "</style>\n",
              "<table border=\"1\" class=\"dataframe\">\n",
              "  <thead>\n",
              "    <tr style=\"text-align: right;\">\n",
              "      <th></th>\n",
              "      <th>Unnamed: 0</th>\n",
              "      <th>review</th>\n",
              "      <th>sentiment</th>\n",
              "    </tr>\n",
              "  </thead>\n",
              "  <tbody>\n",
              "    <tr>\n",
              "      <th>20074</th>\n",
              "      <td>20074</td>\n",
              "      <td>pick spoiler alert plot aggrav bad four friend...</td>\n",
              "      <td>0</td>\n",
              "    </tr>\n",
              "    <tr>\n",
              "      <th>31927</th>\n",
              "      <td>31927</td>\n",
              "      <td>aw plain simpl probabl rever see therefor feel...</td>\n",
              "      <td>0</td>\n",
              "    </tr>\n",
              "    <tr>\n",
              "      <th>37960</th>\n",
              "      <td>37960</td>\n",
              "      <td>overal give decent 7 6 start say love portray ...</td>\n",
              "      <td>1</td>\n",
              "    </tr>\n",
              "    <tr>\n",
              "      <th>29861</th>\n",
              "      <td>29861</td>\n",
              "      <td>saw icon tv surpris know first clue head fact ...</td>\n",
              "      <td>0</td>\n",
              "    </tr>\n",
              "    <tr>\n",
              "      <th>20710</th>\n",
              "      <td>20710</td>\n",
              "      <td>mother know good mayb great eat veget math hom...</td>\n",
              "      <td>1</td>\n",
              "    </tr>\n",
              "    <tr>\n",
              "      <th>4532</th>\n",
              "      <td>4532</td>\n",
              "      <td>come attract order make seem decent horror mys...</td>\n",
              "      <td>0</td>\n",
              "    </tr>\n",
              "    <tr>\n",
              "      <th>27899</th>\n",
              "      <td>27899</td>\n",
              "      <td>interest pirat pirat new orlean earli 19th cen...</td>\n",
              "      <td>1</td>\n",
              "    </tr>\n",
              "  </tbody>\n",
              "</table>\n",
              "</div>"
            ],
            "text/plain": [
              "       Unnamed: 0                                             review  sentiment\n",
              "20074       20074  pick spoiler alert plot aggrav bad four friend...          0\n",
              "31927       31927  aw plain simpl probabl rever see therefor feel...          0\n",
              "37960       37960  overal give decent 7 6 start say love portray ...          1\n",
              "29861       29861  saw icon tv surpris know first clue head fact ...          0\n",
              "20710       20710  mother know good mayb great eat veget math hom...          1\n",
              "4532         4532  come attract order make seem decent horror mys...          0\n",
              "27899       27899  interest pirat pirat new orlean earli 19th cen...          1"
            ]
          },
          "metadata": {
            "tags": []
          },
          "execution_count": 3
        }
      ]
    },
    {
      "cell_type": "markdown",
      "metadata": {
        "id": "aHQ1COdNzuHh",
        "colab_type": "text"
      },
      "source": [
        "## <h2> <center>Text feature extraction</center></h2>"
      ]
    },
    {
      "cell_type": "code",
      "metadata": {
        "id": "RyxHH1RB6lnG",
        "colab_type": "code",
        "outputId": "2b98e819-476c-4eaf-c06c-bfede76ec5d6",
        "colab": {
          "base_uri": "https://localhost:8080/",
          "height": 34
        }
      },
      "source": [
        "# todo: normalize if overfit\n",
        "from sklearn.feature_extraction.text import TfidfVectorizer\n",
        "from sklearn.feature_selection import SelectKBest, f_classif\n",
        "\n",
        "\n",
        "top_k = 10000\n",
        "\n",
        "tfidf = TfidfVectorizer(\n",
        "                    ngram_range = (1,2),\n",
        "                    dtype = 'int32',\n",
        "                    decode_error = 'replace',\n",
        "                    analyzer = 'word',\n",
        "                    min_df = 2,\n",
        "                    norm = 'l2'\n",
        "                    )\n",
        "tfidf_reviews = tfidf.fit_transform(movies['review'])\n",
        "\n",
        "# Select best 10,000(k) features, with feature importance measured by f_classif\n",
        "selector = SelectKBest(f_classif, k = min(top_k, tfidf_reviews.shape[1]))\n",
        "selector.fit(tfidf_reviews, movies['sentiment'])\n",
        "vect_reviews = selector.transform(tfidf_reviews).astype('float32')\n",
        "\n",
        "vect_reviews.shape"
      ],
      "execution_count": 4,
      "outputs": [
        {
          "output_type": "execute_result",
          "data": {
            "text/plain": [
              "(50000, 10000)"
            ]
          },
          "metadata": {
            "tags": []
          },
          "execution_count": 4
        }
      ]
    },
    {
      "cell_type": "markdown",
      "metadata": {
        "id": "SWuOj6_M3Py2",
        "colab_type": "text"
      },
      "source": [
        "## <h2> <center>Split the data</center></h2>"
      ]
    },
    {
      "cell_type": "code",
      "metadata": {
        "id": "x4UrMguq6lkM",
        "colab_type": "code",
        "outputId": "9061d32e-7453-437a-d3b7-2892d9213f22",
        "colab": {
          "base_uri": "https://localhost:8080/",
          "height": 52
        }
      },
      "source": [
        "X = vect_reviews.toarray()\n",
        "y = (np.array(movies['sentiment']))\n",
        "\n",
        "# Here we split data to training and testing parts\n",
        "X_train, X_test, y_train, y_test = train_test_split(X, y, test_size=0.2, random_state=7)\n",
        "print(f\"Train dataset shape: {X_train.shape}, \\nTest dataset shape: {X_test.shape}\")"
      ],
      "execution_count": 5,
      "outputs": [
        {
          "output_type": "stream",
          "text": [
            "Train dataset shape: (40000, 10000), \n",
            "Test dataset shape: (10000, 10000)\n"
          ],
          "name": "stdout"
        }
      ]
    },
    {
      "cell_type": "markdown",
      "metadata": {
        "id": "NYCD63W63uom",
        "colab_type": "text"
      },
      "source": [
        "## <h2> <center>Modeling the data</center></h2>"
      ]
    },
    {
      "cell_type": "markdown",
      "metadata": {
        "id": "A2kiZWgA32OW",
        "colab_type": "text"
      },
      "source": [
        "### <h2> <center>Base Logistic Regression model</center></h2>"
      ]
    },
    {
      "cell_type": "code",
      "metadata": {
        "id": "tdRDnmIr8ktM",
        "colab_type": "code",
        "outputId": "7bb785e4-257e-416c-cd75-a1277973a006",
        "colab": {
          "base_uri": "https://localhost:8080/",
          "height": 105
        }
      },
      "source": [
        "lr=LogisticRegression(max_iter=500 ,random_state=7, \n",
        "                      C = 10, penalty = 'l2') # found from Random Search \n",
        "lr.fit(X_train, y_train)"
      ],
      "execution_count": 6,
      "outputs": [
        {
          "output_type": "execute_result",
          "data": {
            "text/plain": [
              "LogisticRegression(C=10, class_weight=None, dual=False, fit_intercept=True,\n",
              "                   intercept_scaling=1, l1_ratio=None, max_iter=500,\n",
              "                   multi_class='auto', n_jobs=None, penalty='l2',\n",
              "                   random_state=7, solver='lbfgs', tol=0.0001, verbose=0,\n",
              "                   warm_start=False)"
            ]
          },
          "metadata": {
            "tags": []
          },
          "execution_count": 6
        }
      ]
    },
    {
      "cell_type": "code",
      "metadata": {
        "id": "pQaWQ4xc7hg6",
        "colab_type": "code",
        "outputId": "6362bd7f-7156-4af4-d3d6-258e7753f52d",
        "colab": {
          "base_uri": "https://localhost:8080/",
          "height": 34
        }
      },
      "source": [
        "\"\"\"\n",
        "file =  open('lrcv_model.sav', 'wb')\n",
        "pickle.dump(lrcv, file)\n",
        "file.close()\n",
        "\"\"\""
      ],
      "execution_count": 7,
      "outputs": [
        {
          "output_type": "execute_result",
          "data": {
            "text/plain": [
              "\"\\nfile =  open('lrcv_model.sav', 'wb')\\npickle.dump(lrcv, file)\\nfile.close()\\n\""
            ]
          },
          "metadata": {
            "tags": []
          },
          "execution_count": 7
        }
      ]
    },
    {
      "cell_type": "code",
      "metadata": {
        "id": "5jqIr_Y-32lD",
        "colab_type": "code",
        "outputId": "a422a28c-416e-4e0d-bb15-66df23a59197",
        "colab": {
          "base_uri": "https://localhost:8080/",
          "height": 54
        }
      },
      "source": [
        "\"\"\"\n",
        "lr_clf = pickle.load(open('lrcv_model.sav', 'rb'))\n",
        "\n",
        "\n",
        "pred = lr_clf.predict(Xtest)\n",
        "print(\"Accuracy: \", accuracy_score(pred, ytest)*100)\n",
        "\n",
        "print(\"Confusion Matrix:\")\n",
        "pd.DataFrame(confusion_matrix(pred, ytest))\n",
        "\"\"\""
      ],
      "execution_count": 8,
      "outputs": [
        {
          "output_type": "execute_result",
          "data": {
            "text/plain": [
              "'\\nlr_clf = pickle.load(open(\\'lrcv_model.sav\\', \\'rb\\'))\\n\\n\\npred = lr_clf.predict(Xtest)\\nprint(\"Accuracy: \", accuracy_score(pred, ytest)*100)\\n\\nprint(\"Confusion Matrix:\")\\npd.DataFrame(confusion_matrix(pred, ytest))\\n'"
            ]
          },
          "metadata": {
            "tags": []
          },
          "execution_count": 8
        }
      ]
    },
    {
      "cell_type": "code",
      "metadata": {
        "id": "ToZygKsC32qu",
        "colab_type": "code",
        "outputId": "f06a7951-a4cf-4ef9-a632-73e537382b99",
        "colab": {
          "base_uri": "https://localhost:8080/",
          "height": 163
        }
      },
      "source": [
        "pred = lr.predict(X_test)\n",
        "pred_train = lr.predict(X_train)\n",
        "print(\"Training set Accuracy: \", accuracy_score(pred_train, y_train)*100)\n",
        "print(\"Test set Accuracy: \", accuracy_score(pred, y_test)*100)\n",
        "\n",
        "print(\"Confusion Matrix:\")\n",
        "pd.DataFrame(confusion_matrix(pred, y_test))"
      ],
      "execution_count": 9,
      "outputs": [
        {
          "output_type": "stream",
          "text": [
            "Training set Accuracy:  93.04249999999999\n",
            "Test set Accuracy:  90.75999999999999\n",
            "Confusion Matrix:\n"
          ],
          "name": "stdout"
        },
        {
          "output_type": "execute_result",
          "data": {
            "text/html": [
              "<div>\n",
              "<style scoped>\n",
              "    .dataframe tbody tr th:only-of-type {\n",
              "        vertical-align: middle;\n",
              "    }\n",
              "\n",
              "    .dataframe tbody tr th {\n",
              "        vertical-align: top;\n",
              "    }\n",
              "\n",
              "    .dataframe thead th {\n",
              "        text-align: right;\n",
              "    }\n",
              "</style>\n",
              "<table border=\"1\" class=\"dataframe\">\n",
              "  <thead>\n",
              "    <tr style=\"text-align: right;\">\n",
              "      <th></th>\n",
              "      <th>0</th>\n",
              "      <th>1</th>\n",
              "    </tr>\n",
              "  </thead>\n",
              "  <tbody>\n",
              "    <tr>\n",
              "      <th>0</th>\n",
              "      <td>4483</td>\n",
              "      <td>422</td>\n",
              "    </tr>\n",
              "    <tr>\n",
              "      <th>1</th>\n",
              "      <td>502</td>\n",
              "      <td>4593</td>\n",
              "    </tr>\n",
              "  </tbody>\n",
              "</table>\n",
              "</div>"
            ],
            "text/plain": [
              "      0     1\n",
              "0  4483   422\n",
              "1   502  4593"
            ]
          },
          "metadata": {
            "tags": []
          },
          "execution_count": 9
        }
      ]
    },
    {
      "cell_type": "code",
      "metadata": {
        "id": "_GJ3eODG321r",
        "colab_type": "code",
        "outputId": "4c2f06eb-bd4b-4f09-83a9-b8ee865f3e63",
        "colab": {
          "base_uri": "https://localhost:8080/",
          "height": 34
        }
      },
      "source": [
        "penalty = ['l2']\n",
        "# Create regularization hyperparameter distribution using uniform distribution\n",
        "C = [0.3, 1, 10, 30]\n",
        "logistic = LogisticRegression()\n",
        "# Create hyperparameter options\n",
        "hyperparameters = dict(C=C,penalty=penalty)\n",
        "pprint(hyperparameters)\n",
        "lr_best = GridSearchCV(logistic, hyperparameters, scoring = 'accuracy', n_jobs =2,\n",
        "                       cv = 2, verbose = 1, refit=True, return_train_score = True)"
      ],
      "execution_count": 11,
      "outputs": [
        {
          "output_type": "stream",
          "text": [
            "{'C': [0.3, 1, 3, 9, 10], 'penalty': ['l2']}\n"
          ],
          "name": "stdout"
        }
      ]
    },
    {
      "cell_type": "code",
      "metadata": {
        "id": "TLUlR4Yi326-",
        "colab_type": "code",
        "outputId": "d4090a51-01ee-44d6-956d-0c0572798994",
        "colab": {
          "base_uri": "https://localhost:8080/",
          "height": 299
        }
      },
      "source": [
        "lr_best.fit(X_train, y_train)"
      ],
      "execution_count": 12,
      "outputs": [
        {
          "output_type": "stream",
          "text": [
            "Fitting 2 folds for each of 5 candidates, totalling 10 fits\n"
          ],
          "name": "stdout"
        },
        {
          "output_type": "stream",
          "text": [
            "[Parallel(n_jobs=1)]: Using backend SequentialBackend with 1 concurrent workers.\n",
            "[Parallel(n_jobs=1)]: Done  10 out of  10 | elapsed:  2.3min finished\n"
          ],
          "name": "stderr"
        },
        {
          "output_type": "execute_result",
          "data": {
            "text/plain": [
              "GridSearchCV(cv=2, error_score=nan,\n",
              "             estimator=LogisticRegression(C=1.0, class_weight=None, dual=False,\n",
              "                                          fit_intercept=True,\n",
              "                                          intercept_scaling=1, l1_ratio=None,\n",
              "                                          max_iter=100, multi_class='auto',\n",
              "                                          n_jobs=None, penalty='l2',\n",
              "                                          random_state=None, solver='lbfgs',\n",
              "                                          tol=0.0001, verbose=0,\n",
              "                                          warm_start=False),\n",
              "             iid='deprecated', n_jobs=None,\n",
              "             param_grid={'C': [0.3, 1, 3, 9, 10], 'penalty': ['l2']},\n",
              "             pre_dispatch='2*n_jobs', refit=True, return_train_score=True,\n",
              "             scoring='accuracy', verbose=1)"
            ]
          },
          "metadata": {
            "tags": []
          },
          "execution_count": 12
        }
      ]
    },
    {
      "cell_type": "code",
      "metadata": {
        "id": "1mg3SMY733CI",
        "colab_type": "code",
        "outputId": "69be681c-3e0e-493e-fcf5-f46e464a7ee7",
        "colab": {
          "base_uri": "https://localhost:8080/",
          "height": 70
        }
      },
      "source": [
        "lr_best_penalty = lr_best.best_estimator_.get_params()['penalty']\n",
        "lr_best_c = lr_best.best_estimator_.get_params()['C']\n",
        "print(f'Best Penalty: {lr_best_penalty}')\n",
        "print(f'Best C: {lr_best_c}')\n",
        "\n",
        "lr_best.best_params_"
      ],
      "execution_count": 13,
      "outputs": [
        {
          "output_type": "stream",
          "text": [
            "Best Penalty: l2\n",
            "Best C: 10\n"
          ],
          "name": "stdout"
        },
        {
          "output_type": "execute_result",
          "data": {
            "text/plain": [
              "{'C': 10, 'penalty': 'l2'}"
            ]
          },
          "metadata": {
            "tags": []
          },
          "execution_count": 13
        }
      ]
    },
    {
      "cell_type": "code",
      "metadata": {
        "id": "VoiwUsvU33Gz",
        "colab_type": "code",
        "outputId": "afce5cfa-7845-46f3-8144-50a2a7d0896c",
        "colab": {
          "base_uri": "https://localhost:8080/",
          "height": 163
        }
      },
      "source": [
        "pred = lr_best.predict(X_test)\n",
        "pred_train = lr_best.predict(X_train)\n",
        "print(\"Training set Accuracy: \", accuracy_score(pred_train, y_train)*100)\n",
        "print(\"Test set Accuracy: \", accuracy_score(pred, y_test)*100)\n",
        "\n",
        "print(\"Confusion Matrix:\")\n",
        "pd.DataFrame(confusion_matrix(pred, y_test))"
      ],
      "execution_count": 14,
      "outputs": [
        {
          "output_type": "stream",
          "text": [
            "Training set Accuracy:  93.045\n",
            "Test set Accuracy:  90.73\n",
            "Confusion Matrix:\n"
          ],
          "name": "stdout"
        },
        {
          "output_type": "execute_result",
          "data": {
            "text/html": [
              "<div>\n",
              "<style scoped>\n",
              "    .dataframe tbody tr th:only-of-type {\n",
              "        vertical-align: middle;\n",
              "    }\n",
              "\n",
              "    .dataframe tbody tr th {\n",
              "        vertical-align: top;\n",
              "    }\n",
              "\n",
              "    .dataframe thead th {\n",
              "        text-align: right;\n",
              "    }\n",
              "</style>\n",
              "<table border=\"1\" class=\"dataframe\">\n",
              "  <thead>\n",
              "    <tr style=\"text-align: right;\">\n",
              "      <th></th>\n",
              "      <th>0</th>\n",
              "      <th>1</th>\n",
              "    </tr>\n",
              "  </thead>\n",
              "  <tbody>\n",
              "    <tr>\n",
              "      <th>0</th>\n",
              "      <td>4480</td>\n",
              "      <td>422</td>\n",
              "    </tr>\n",
              "    <tr>\n",
              "      <th>1</th>\n",
              "      <td>505</td>\n",
              "      <td>4593</td>\n",
              "    </tr>\n",
              "  </tbody>\n",
              "</table>\n",
              "</div>"
            ],
            "text/plain": [
              "      0     1\n",
              "0  4480   422\n",
              "1   505  4593"
            ]
          },
          "metadata": {
            "tags": []
          },
          "execution_count": 14
        }
      ]
    },
    {
      "cell_type": "markdown",
      "metadata": {
        "id": "7ZVPi9WvNSBa",
        "colab_type": "text"
      },
      "source": [
        "### <h2> <center>SVM Classifier</center></h2>"
      ]
    },
    {
      "cell_type": "code",
      "metadata": {
        "id": "6DfHwVYS33MX",
        "colab_type": "code",
        "colab": {
          "base_uri": "https://localhost:8080/",
          "height": 123
        },
        "outputId": "0e968e8f-05ea-41ec-b01f-dea6b515897c"
      },
      "source": [
        "svm = SGDClassifier(random_state = 7, penalty = 'l2', loss = 'hinge')\n",
        "\n",
        "svm.fit(X_train,y_train)"
      ],
      "execution_count": 15,
      "outputs": [
        {
          "output_type": "execute_result",
          "data": {
            "text/plain": [
              "SGDClassifier(alpha=0.0001, average=False, class_weight=None,\n",
              "              early_stopping=False, epsilon=0.1, eta0=0.0, fit_intercept=True,\n",
              "              l1_ratio=0.15, learning_rate='optimal', loss='hinge',\n",
              "              max_iter=1000, n_iter_no_change=5, n_jobs=None, penalty='l2',\n",
              "              power_t=0.5, random_state=7, shuffle=True, tol=0.001,\n",
              "              validation_fraction=0.1, verbose=0, warm_start=False)"
            ]
          },
          "metadata": {
            "tags": []
          },
          "execution_count": 15
        }
      ]
    },
    {
      "cell_type": "code",
      "metadata": {
        "id": "LPmUcLrd33Rg",
        "colab_type": "code",
        "colab": {
          "base_uri": "https://localhost:8080/",
          "height": 163
        },
        "outputId": "cb8bf519-e557-4ae8-c30b-970084dce7c5"
      },
      "source": [
        "pred = svm.predict(X_test)\n",
        "pred_train = svm.predict(X_train)\n",
        "print(\"Training set Accuracy: \", accuracy_score(pred_train, y_train)*100)\n",
        "print(\"Test set Accuracy: \", accuracy_score(pred, y_test)*100)\n",
        "\n",
        "print(\"Confusion Matrix:\")\n",
        "pd.DataFrame(confusion_matrix(pred, y_test))"
      ],
      "execution_count": 16,
      "outputs": [
        {
          "output_type": "stream",
          "text": [
            "Training set Accuracy:  89.595\n",
            "Test set Accuracy:  88.96\n",
            "Confusion Matrix:\n"
          ],
          "name": "stdout"
        },
        {
          "output_type": "execute_result",
          "data": {
            "text/html": [
              "<div>\n",
              "<style scoped>\n",
              "    .dataframe tbody tr th:only-of-type {\n",
              "        vertical-align: middle;\n",
              "    }\n",
              "\n",
              "    .dataframe tbody tr th {\n",
              "        vertical-align: top;\n",
              "    }\n",
              "\n",
              "    .dataframe thead th {\n",
              "        text-align: right;\n",
              "    }\n",
              "</style>\n",
              "<table border=\"1\" class=\"dataframe\">\n",
              "  <thead>\n",
              "    <tr style=\"text-align: right;\">\n",
              "      <th></th>\n",
              "      <th>0</th>\n",
              "      <th>1</th>\n",
              "    </tr>\n",
              "  </thead>\n",
              "  <tbody>\n",
              "    <tr>\n",
              "      <th>0</th>\n",
              "      <td>4361</td>\n",
              "      <td>480</td>\n",
              "    </tr>\n",
              "    <tr>\n",
              "      <th>1</th>\n",
              "      <td>624</td>\n",
              "      <td>4535</td>\n",
              "    </tr>\n",
              "  </tbody>\n",
              "</table>\n",
              "</div>"
            ],
            "text/plain": [
              "      0     1\n",
              "0  4361   480\n",
              "1   624  4535"
            ]
          },
          "metadata": {
            "tags": []
          },
          "execution_count": 16
        }
      ]
    },
    {
      "cell_type": "markdown",
      "metadata": {
        "id": "-mcblkUzWpzW",
        "colab_type": "text"
      },
      "source": [
        "### <h2> <center>Multinomial Bayes Classifier</center></h2>"
      ]
    },
    {
      "cell_type": "code",
      "metadata": {
        "id": "ZEh4kqL032_6",
        "colab_type": "code",
        "outputId": "c91832ca-fa27-436b-975e-7583a714ac74",
        "colab": {
          "base_uri": "https://localhost:8080/",
          "height": 34
        }
      },
      "source": [
        "#training the model\n",
        "mnb = MultinomialNB(alpha = 0.001) # best alpha found from Grid Search\n",
        "#fitting the svm for bag of words\n",
        "mnb.fit(X_train, y_train)"
      ],
      "execution_count": 17,
      "outputs": [
        {
          "output_type": "execute_result",
          "data": {
            "text/plain": [
              "MultinomialNB(alpha=0.001, class_prior=None, fit_prior=True)"
            ]
          },
          "metadata": {
            "tags": []
          },
          "execution_count": 17
        }
      ]
    },
    {
      "cell_type": "code",
      "metadata": {
        "id": "A3RJ_dZy3294",
        "colab_type": "code",
        "outputId": "375b308b-b141-4e95-94c2-9fb398b44482",
        "colab": {
          "base_uri": "https://localhost:8080/",
          "height": 163
        }
      },
      "source": [
        "pred = mnb.predict(X_test)\n",
        "pred_train = mnb.predict(X_train)\n",
        "print(\"Training set Accuracy: \", accuracy_score(pred_train, y_train)*100)\n",
        "print(\"Test set Accuracy: \", accuracy_score(pred, y_test)*100)\n",
        "\n",
        "print(\"Confusion Matrix:\")\n",
        "pd.DataFrame(confusion_matrix(pred, y_test))"
      ],
      "execution_count": 18,
      "outputs": [
        {
          "output_type": "stream",
          "text": [
            "Training set Accuracy:  91.1225\n",
            "Test set Accuracy:  90.48\n",
            "Confusion Matrix:\n"
          ],
          "name": "stdout"
        },
        {
          "output_type": "execute_result",
          "data": {
            "text/html": [
              "<div>\n",
              "<style scoped>\n",
              "    .dataframe tbody tr th:only-of-type {\n",
              "        vertical-align: middle;\n",
              "    }\n",
              "\n",
              "    .dataframe tbody tr th {\n",
              "        vertical-align: top;\n",
              "    }\n",
              "\n",
              "    .dataframe thead th {\n",
              "        text-align: right;\n",
              "    }\n",
              "</style>\n",
              "<table border=\"1\" class=\"dataframe\">\n",
              "  <thead>\n",
              "    <tr style=\"text-align: right;\">\n",
              "      <th></th>\n",
              "      <th>0</th>\n",
              "      <th>1</th>\n",
              "    </tr>\n",
              "  </thead>\n",
              "  <tbody>\n",
              "    <tr>\n",
              "      <th>0</th>\n",
              "      <td>4478</td>\n",
              "      <td>445</td>\n",
              "    </tr>\n",
              "    <tr>\n",
              "      <th>1</th>\n",
              "      <td>507</td>\n",
              "      <td>4570</td>\n",
              "    </tr>\n",
              "  </tbody>\n",
              "</table>\n",
              "</div>"
            ],
            "text/plain": [
              "      0     1\n",
              "0  4478   445\n",
              "1   507  4570"
            ]
          },
          "metadata": {
            "tags": []
          },
          "execution_count": 18
        }
      ]
    },
    {
      "cell_type": "code",
      "metadata": {
        "id": "mVuuNHrf324g",
        "colab_type": "code",
        "outputId": "2d6aff7f-12a6-4f17-91a2-4640a126ea39",
        "colab": {
          "base_uri": "https://localhost:8080/",
          "height": 34
        }
      },
      "source": [
        "alpha =  [100, 10, 1, 0.1, 0.001, 0.0001, 0.00001]\n",
        "hyperparam = dict(alpha = alpha)\n",
        "mnb_best = GridSearchCV(mnb, hyperparam, scoring = 'accuracy', cv = 3, refit = True, verbose = 1, return_train_score = True)\n",
        "pprint(hyperparam)"
      ],
      "execution_count": 19,
      "outputs": [
        {
          "output_type": "stream",
          "text": [
            "{'alpha': [100, 10, 1, 0.1, 0.001, 0.0001, 1e-05]}\n"
          ],
          "name": "stdout"
        }
      ]
    },
    {
      "cell_type": "code",
      "metadata": {
        "id": "y6UphG0e32z3",
        "colab_type": "code",
        "outputId": "14575b8d-c6c0-4d14-a482-16896a4132e1",
        "colab": {
          "base_uri": "https://localhost:8080/",
          "height": 193
        }
      },
      "source": [
        "mnb_best.fit(X_train, y_train)"
      ],
      "execution_count": 20,
      "outputs": [
        {
          "output_type": "stream",
          "text": [
            "Fitting 3 folds for each of 7 candidates, totalling 21 fits\n"
          ],
          "name": "stdout"
        },
        {
          "output_type": "stream",
          "text": [
            "[Parallel(n_jobs=1)]: Using backend SequentialBackend with 1 concurrent workers.\n",
            "[Parallel(n_jobs=1)]: Done  21 out of  21 | elapsed:  1.2min finished\n"
          ],
          "name": "stderr"
        },
        {
          "output_type": "execute_result",
          "data": {
            "text/plain": [
              "GridSearchCV(cv=3, error_score=nan,\n",
              "             estimator=MultinomialNB(alpha=0.001, class_prior=None,\n",
              "                                     fit_prior=True),\n",
              "             iid='deprecated', n_jobs=None,\n",
              "             param_grid={'alpha': [100, 10, 1, 0.1, 0.001, 0.0001, 1e-05]},\n",
              "             pre_dispatch='2*n_jobs', refit=True, return_train_score=True,\n",
              "             scoring='accuracy', verbose=1)"
            ]
          },
          "metadata": {
            "tags": []
          },
          "execution_count": 20
        }
      ]
    },
    {
      "cell_type": "code",
      "metadata": {
        "id": "0pfCV5SM32yB",
        "colab_type": "code",
        "outputId": "dd14c4cf-7cb0-46d5-aab9-79ef8aebf97c",
        "colab": {
          "base_uri": "https://localhost:8080/",
          "height": 52
        }
      },
      "source": [
        "mnb_best_alpha = mnb_best.best_estimator_.get_params()['alpha']\n",
        "print(f'Best alpha: {mnb_best_alpha}')\n",
        "mnb_best.best_params_"
      ],
      "execution_count": 21,
      "outputs": [
        {
          "output_type": "stream",
          "text": [
            "Best alpha: 0.001\n"
          ],
          "name": "stdout"
        },
        {
          "output_type": "execute_result",
          "data": {
            "text/plain": [
              "{'alpha': 0.001}"
            ]
          },
          "metadata": {
            "tags": []
          },
          "execution_count": 21
        }
      ]
    },
    {
      "cell_type": "code",
      "metadata": {
        "id": "3lTPDIlye99B",
        "colab_type": "code",
        "outputId": "f61be735-360e-4ddc-88b1-580204b2e667",
        "colab": {
          "base_uri": "https://localhost:8080/",
          "height": 163
        }
      },
      "source": [
        "pred = mnb_best.predict(X_test)\n",
        "pred_train = mnb_best.predict(X_train)\n",
        "print(\"Training set Accuracy: \", accuracy_score(pred_train, y_train)*100)\n",
        "print(\"Test set Accuracy: \", accuracy_score(pred, y_test)*100)\n",
        "\n",
        "print(\"Confusion Matrix:\")\n",
        "pd.DataFrame(confusion_matrix(pred, y_test))"
      ],
      "execution_count": 22,
      "outputs": [
        {
          "output_type": "stream",
          "text": [
            "Training set Accuracy:  91.1225\n",
            "Test set Accuracy:  90.48\n",
            "Confusion Matrix:\n"
          ],
          "name": "stdout"
        },
        {
          "output_type": "execute_result",
          "data": {
            "text/html": [
              "<div>\n",
              "<style scoped>\n",
              "    .dataframe tbody tr th:only-of-type {\n",
              "        vertical-align: middle;\n",
              "    }\n",
              "\n",
              "    .dataframe tbody tr th {\n",
              "        vertical-align: top;\n",
              "    }\n",
              "\n",
              "    .dataframe thead th {\n",
              "        text-align: right;\n",
              "    }\n",
              "</style>\n",
              "<table border=\"1\" class=\"dataframe\">\n",
              "  <thead>\n",
              "    <tr style=\"text-align: right;\">\n",
              "      <th></th>\n",
              "      <th>0</th>\n",
              "      <th>1</th>\n",
              "    </tr>\n",
              "  </thead>\n",
              "  <tbody>\n",
              "    <tr>\n",
              "      <th>0</th>\n",
              "      <td>4478</td>\n",
              "      <td>445</td>\n",
              "    </tr>\n",
              "    <tr>\n",
              "      <th>1</th>\n",
              "      <td>507</td>\n",
              "      <td>4570</td>\n",
              "    </tr>\n",
              "  </tbody>\n",
              "</table>\n",
              "</div>"
            ],
            "text/plain": [
              "      0     1\n",
              "0  4478   445\n",
              "1   507  4570"
            ]
          },
          "metadata": {
            "tags": []
          },
          "execution_count": 22
        }
      ]
    },
    {
      "cell_type": "markdown",
      "metadata": {
        "id": "32o-rgkxg6SU",
        "colab_type": "text"
      },
      "source": [
        "### <h2> <center>Random Forest Classifier</center></h2>"
      ]
    },
    {
      "cell_type": "code",
      "metadata": {
        "id": "Ciyt74XNe-RF",
        "colab_type": "code",
        "outputId": "2195d892-b723-4bdb-b956-8ce75cdc11d1",
        "colab": {
          "base_uri": "https://localhost:8080/",
          "height": 158
        }
      },
      "source": [
        "# takes a lot of time ...\n",
        "rf = RandomForestClassifier(max_depth = 100, \n",
        "                            n_estimators = 500,\n",
        "                            min_samples_leaf = 5,\n",
        "                            min_samples_split = 2,\n",
        "                            max_features = 'sqrt',\n",
        "                            random_state = 7)  # found from Random Search\n",
        "\n",
        "rf.fit(X_train, y_train)"
      ],
      "execution_count": 23,
      "outputs": [
        {
          "output_type": "execute_result",
          "data": {
            "text/plain": [
              "RandomForestClassifier(bootstrap=True, ccp_alpha=0.0, class_weight=None,\n",
              "                       criterion='gini', max_depth=100, max_features='sqrt',\n",
              "                       max_leaf_nodes=None, max_samples=None,\n",
              "                       min_impurity_decrease=0.0, min_impurity_split=None,\n",
              "                       min_samples_leaf=5, min_samples_split=2,\n",
              "                       min_weight_fraction_leaf=0.0, n_estimators=500,\n",
              "                       n_jobs=None, oob_score=False, random_state=7, verbose=0,\n",
              "                       warm_start=False)"
            ]
          },
          "metadata": {
            "tags": []
          },
          "execution_count": 23
        }
      ]
    },
    {
      "cell_type": "code",
      "metadata": {
        "id": "41kWlQ8ye-Yb",
        "colab_type": "code",
        "outputId": "61d71554-d86c-4b38-a80a-adeadae8b8b4",
        "colab": {
          "base_uri": "https://localhost:8080/",
          "height": 163
        }
      },
      "source": [
        "pred = rf.predict(X_test)\n",
        "pred_train = rf.predict(X_train)\n",
        "print(\"Training set Accuracy: \", accuracy_score(pred_train, y_train)*100)\n",
        "print(\"Test set Accuracy: \", accuracy_score(pred, y_test)*100)\n",
        "\n",
        "print(\"Confusion Matrix:\")\n",
        "pd.DataFrame(confusion_matrix(pred, y_test))"
      ],
      "execution_count": 24,
      "outputs": [
        {
          "output_type": "stream",
          "text": [
            "Training set Accuracy:  95.2325\n",
            "Test set Accuracy:  85.87\n",
            "Confusion Matrix:\n"
          ],
          "name": "stdout"
        },
        {
          "output_type": "execute_result",
          "data": {
            "text/html": [
              "<div>\n",
              "<style scoped>\n",
              "    .dataframe tbody tr th:only-of-type {\n",
              "        vertical-align: middle;\n",
              "    }\n",
              "\n",
              "    .dataframe tbody tr th {\n",
              "        vertical-align: top;\n",
              "    }\n",
              "\n",
              "    .dataframe thead th {\n",
              "        text-align: right;\n",
              "    }\n",
              "</style>\n",
              "<table border=\"1\" class=\"dataframe\">\n",
              "  <thead>\n",
              "    <tr style=\"text-align: right;\">\n",
              "      <th></th>\n",
              "      <th>0</th>\n",
              "      <th>1</th>\n",
              "    </tr>\n",
              "  </thead>\n",
              "  <tbody>\n",
              "    <tr>\n",
              "      <th>0</th>\n",
              "      <td>4240</td>\n",
              "      <td>668</td>\n",
              "    </tr>\n",
              "    <tr>\n",
              "      <th>1</th>\n",
              "      <td>745</td>\n",
              "      <td>4347</td>\n",
              "    </tr>\n",
              "  </tbody>\n",
              "</table>\n",
              "</div>"
            ],
            "text/plain": [
              "      0     1\n",
              "0  4240   668\n",
              "1   745  4347"
            ]
          },
          "metadata": {
            "tags": []
          },
          "execution_count": 24
        }
      ]
    },
    {
      "cell_type": "code",
      "metadata": {
        "id": "uKQiYZ1Fe-cP",
        "colab_type": "code",
        "outputId": "8aa62118-8b5a-4be8-cf30-ec77c4bced5e",
        "colab": {
          "base_uri": "https://localhost:8080/",
          "height": 105
        }
      },
      "source": [
        "n_estimators = [int(x) for x in np.linspace(start = 100, stop = 1000, num = 3)]\n",
        "max_features = ['auto', 'sqrt']\n",
        "max_depth = [int(x) for x in np.linspace(10, 100, num = 3)]\n",
        "min_samples_split = [2, 5, 10]\n",
        "min_samples_leaf = [1, 2, 4]\n",
        "bootstrap = [True, False]\n",
        "\n",
        "hyperparam = {'n_estimators': n_estimators,\n",
        "               'max_features': max_features,\n",
        "               'max_depth': max_depth,\n",
        "               'min_samples_split': min_samples_split,\n",
        "               'min_samples_leaf': min_samples_leaf,\n",
        "               }\n",
        "pprint(hyperparam)\n",
        "rf_temp = RandomForestClassifier()\n",
        "rf_random = RandomizedSearchCV(rf_temp, hyperparam, cv = 2, n_iter = 10, verbose = 1,\n",
        "                        refit = False, return_train_score = True)"
      ],
      "execution_count": 25,
      "outputs": [
        {
          "output_type": "stream",
          "text": [
            "{'max_depth': [10, 55, 100],\n",
            " 'max_features': ['auto', 'sqrt'],\n",
            " 'min_samples_leaf': [1, 2, 4],\n",
            " 'min_samples_split': [2, 5, 10],\n",
            " 'n_estimators': [100, 550, 1000]}\n"
          ],
          "name": "stdout"
        }
      ]
    },
    {
      "cell_type": "code",
      "metadata": {
        "id": "zZX_tnCCe-XA",
        "colab_type": "code",
        "colab": {}
      },
      "source": [
        "# takes a lot of time ...\n",
        "# rf_random.fit(X_train, y_train)"
      ],
      "execution_count": 0,
      "outputs": []
    },
    {
      "cell_type": "code",
      "metadata": {
        "id": "x_AEUTjIe-VE",
        "colab_type": "code",
        "outputId": "13abc81b-7999-4dcc-ab8d-b7509681b077",
        "colab": {
          "base_uri": "https://localhost:8080/",
          "height": 170
        }
      },
      "source": [
        "pprint(rf_random.best_params_)"
      ],
      "execution_count": 27,
      "outputs": [
        {
          "output_type": "error",
          "ename": "AttributeError",
          "evalue": "ignored",
          "traceback": [
            "\u001b[0;31m---------------------------------------------------------------------------\u001b[0m",
            "\u001b[0;31mAttributeError\u001b[0m                            Traceback (most recent call last)",
            "\u001b[0;32m<ipython-input-27-2bb6877e1f3c>\u001b[0m in \u001b[0;36m<module>\u001b[0;34m()\u001b[0m\n\u001b[0;32m----> 1\u001b[0;31m \u001b[0mpprint\u001b[0m\u001b[0;34m(\u001b[0m\u001b[0mrf_random\u001b[0m\u001b[0;34m.\u001b[0m\u001b[0mbest_params_\u001b[0m\u001b[0;34m)\u001b[0m\u001b[0;34m\u001b[0m\u001b[0;34m\u001b[0m\u001b[0m\n\u001b[0m",
            "\u001b[0;31mAttributeError\u001b[0m: 'RandomizedSearchCV' object has no attribute 'best_params_'"
          ]
        }
      ]
    },
    {
      "cell_type": "markdown",
      "metadata": {
        "id": "zFb6H3JyoZGp",
        "colab_type": "text"
      },
      "source": [
        "* The best models were Multinomial Naive Bayes and Logistic regression.\n",
        "* Random forest seems to be overfitting."
      ]
    },
    {
      "cell_type": "code",
      "metadata": {
        "id": "g8Udwt0UkBfu",
        "colab_type": "code",
        "colab": {}
      },
      "source": [
        ""
      ],
      "execution_count": 0,
      "outputs": []
    },
    {
      "cell_type": "code",
      "metadata": {
        "id": "89jhxuh2kBkv",
        "colab_type": "code",
        "colab": {}
      },
      "source": [
        ""
      ],
      "execution_count": 0,
      "outputs": []
    },
    {
      "cell_type": "code",
      "metadata": {
        "id": "fEpW6iF0kBi6",
        "colab_type": "code",
        "colab": {}
      },
      "source": [
        ""
      ],
      "execution_count": 0,
      "outputs": []
    },
    {
      "cell_type": "code",
      "metadata": {
        "id": "s9bwpBRqkBdd",
        "colab_type": "code",
        "colab": {}
      },
      "source": [
        ""
      ],
      "execution_count": 0,
      "outputs": []
    },
    {
      "cell_type": "code",
      "metadata": {
        "id": "9IA7e8PvkBa4",
        "colab_type": "code",
        "colab": {}
      },
      "source": [
        ""
      ],
      "execution_count": 0,
      "outputs": []
    },
    {
      "cell_type": "code",
      "metadata": {
        "id": "T0ejh5oYkBYA",
        "colab_type": "code",
        "colab": {}
      },
      "source": [
        ""
      ],
      "execution_count": 0,
      "outputs": []
    }
  ]
}