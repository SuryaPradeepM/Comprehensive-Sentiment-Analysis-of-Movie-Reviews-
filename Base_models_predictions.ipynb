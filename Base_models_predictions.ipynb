{
  "nbformat": 4,
  "nbformat_minor": 0,
  "metadata": {
    "colab": {
      "name": "Base_models_predictions.ipynb",
      "provenance": [],
      "collapsed_sections": []
    },
    "kernelspec": {
      "name": "python3",
      "display_name": "Python 3"
    },
    "accelerator": "TPU"
  },
  "cells": [
    {
      "cell_type": "markdown",
      "metadata": {
        "id": "BwHnrfthGR3B",
        "colab_type": "text"
      },
      "source": [
        "# <h1 align= 'center'>Base Models</h1>"
      ]
    },
    {
      "cell_type": "code",
      "metadata": {
        "id": "SgEMsltsGly8",
        "colab_type": "code",
        "outputId": "6e1164b1-c5f1-4f7f-b8c9-7a9d09fb0d80",
        "colab": {
          "base_uri": "https://localhost:8080/",
          "height": 72
        }
      },
      "source": [
        "import numpy as np\n",
        "import pandas as pd\n",
        "import seaborn as sns\n",
        "import matplotlib.pyplot as plt\n",
        "import pickle\n",
        "\n",
        "from sklearn.model_selection import train_test_split, RandomizedSearchCV, GridSearchCV\n",
        "from sklearn.metrics import accuracy_score, confusion_matrix, roc_auc_score\n",
        "from sklearn.linear_model import LogisticRegressionCV, LogisticRegression, SGDClassifier\n",
        "from sklearn.naive_bayes import MultinomialNB\n",
        "from sklearn.ensemble import RandomForestClassifier\n",
        "from xgboost.sklearn import XGBClassifier\n",
        "\n",
        "from scipy.stats import uniform\n",
        "from pprint import pprint\n",
        "import warnings\n",
        "warnings.filterwarnings('ignore')"
      ],
      "execution_count": 1,
      "outputs": [
        {
          "output_type": "stream",
          "text": [
            "/usr/local/lib/python3.6/dist-packages/statsmodels/tools/_testing.py:19: FutureWarning: pandas.util.testing is deprecated. Use the functions in the public API at pandas.testing instead.\n",
            "  import pandas.util.testing as tm\n"
          ],
          "name": "stderr"
        }
      ]
    },
    {
      "cell_type": "code",
      "metadata": {
        "id": "HOM50cvtGQvo",
        "colab_type": "code",
        "outputId": "4b4195d9-98ff-47bd-9452-ea7c58b7a6c7",
        "colab": {
          "base_uri": "https://localhost:8080/",
          "height": 125
        }
      },
      "source": [
        "# for importing data to colab\n",
        "from google.colab import drive \n",
        "drive.mount('/content/drive')\n",
        "\n",
        "# read from local dataset\n",
        "# movies = pd.read_csv('data/imdb_data.csv')\n",
        "# movies.sample(7)"
      ],
      "execution_count": 2,
      "outputs": [
        {
          "output_type": "stream",
          "text": [
            "Go to this URL in a browser: https://accounts.google.com/o/oauth2/auth?client_id=947318989803-6bn6qk8qdgf4n4g3pfee6491hc0brc4i.apps.googleusercontent.com&redirect_uri=urn%3aietf%3awg%3aoauth%3a2.0%3aoob&response_type=code&scope=email%20https%3a%2f%2fwww.googleapis.com%2fauth%2fdocs.test%20https%3a%2f%2fwww.googleapis.com%2fauth%2fdrive%20https%3a%2f%2fwww.googleapis.com%2fauth%2fdrive.photos.readonly%20https%3a%2f%2fwww.googleapis.com%2fauth%2fpeopleapi.readonly\n",
            "\n",
            "Enter your authorization code:\n",
            "··········\n",
            "Mounted at /content/drive\n"
          ],
          "name": "stdout"
        }
      ]
    },
    {
      "cell_type": "markdown",
      "metadata": {
        "id": "oWGHsg9rGe_T",
        "colab_type": "text"
      },
      "source": [
        "## <h2> <center>Load preprocessed data</center></h2>"
      ]
    },
    {
      "cell_type": "code",
      "metadata": {
        "id": "hdS_L0eFGdcj",
        "colab_type": "code",
        "outputId": "f81262f0-13c7-4aff-89f8-7333c21a1092",
        "colab": {
          "base_uri": "https://localhost:8080/",
          "height": 263
        }
      },
      "source": [
        "movies = pd.read_csv('/content/drive/My Drive/Colab Notebooks/cleaned_data.csv')\n",
        "movies.sample(7)"
      ],
      "execution_count": 3,
      "outputs": [
        {
          "output_type": "execute_result",
          "data": {
            "text/html": [
              "<div>\n",
              "<style scoped>\n",
              "    .dataframe tbody tr th:only-of-type {\n",
              "        vertical-align: middle;\n",
              "    }\n",
              "\n",
              "    .dataframe tbody tr th {\n",
              "        vertical-align: top;\n",
              "    }\n",
              "\n",
              "    .dataframe thead th {\n",
              "        text-align: right;\n",
              "    }\n",
              "</style>\n",
              "<table border=\"1\" class=\"dataframe\">\n",
              "  <thead>\n",
              "    <tr style=\"text-align: right;\">\n",
              "      <th></th>\n",
              "      <th>Unnamed: 0</th>\n",
              "      <th>review</th>\n",
              "      <th>sentiment</th>\n",
              "    </tr>\n",
              "  </thead>\n",
              "  <tbody>\n",
              "    <tr>\n",
              "      <th>16997</th>\n",
              "      <td>16997</td>\n",
              "      <td>ever came stori sick person rent slumber parti...</td>\n",
              "      <td>1</td>\n",
              "    </tr>\n",
              "    <tr>\n",
              "      <th>28670</th>\n",
              "      <td>28670</td>\n",
              "      <td>shemp find stand inherit million dollar marri ...</td>\n",
              "      <td>0</td>\n",
              "    </tr>\n",
              "    <tr>\n",
              "      <th>12936</th>\n",
              "      <td>12936</td>\n",
              "      <td>pleas think rent think watch coupl download cl...</td>\n",
              "      <td>0</td>\n",
              "    </tr>\n",
              "    <tr>\n",
              "      <th>3821</th>\n",
              "      <td>3821</td>\n",
              "      <td>martin lawrenc funni man runteldat much mind m...</td>\n",
              "      <td>0</td>\n",
              "    </tr>\n",
              "    <tr>\n",
              "      <th>44186</th>\n",
              "      <td>44186</td>\n",
              "      <td>total dreck love val kilmer surpris earlier ye...</td>\n",
              "      <td>0</td>\n",
              "    </tr>\n",
              "    <tr>\n",
              "      <th>3182</th>\n",
              "      <td>3182</td>\n",
              "      <td>girlfriend stun bad 15 minut call quit except ...</td>\n",
              "      <td>0</td>\n",
              "    </tr>\n",
              "    <tr>\n",
              "      <th>22136</th>\n",
              "      <td>22136</td>\n",
              "      <td>korin  establish talent impress imag maker pro...</td>\n",
              "      <td>0</td>\n",
              "    </tr>\n",
              "  </tbody>\n",
              "</table>\n",
              "</div>"
            ],
            "text/plain": [
              "       Unnamed: 0                                             review  sentiment\n",
              "16997       16997  ever came stori sick person rent slumber parti...          1\n",
              "28670       28670  shemp find stand inherit million dollar marri ...          0\n",
              "12936       12936  pleas think rent think watch coupl download cl...          0\n",
              "3821         3821  martin lawrenc funni man runteldat much mind m...          0\n",
              "44186       44186  total dreck love val kilmer surpris earlier ye...          0\n",
              "3182         3182  girlfriend stun bad 15 minut call quit except ...          0\n",
              "22136       22136  korin  establish talent impress imag maker pro...          0"
            ]
          },
          "metadata": {
            "tags": []
          },
          "execution_count": 3
        }
      ]
    },
    {
      "cell_type": "markdown",
      "metadata": {
        "id": "aHQ1COdNzuHh",
        "colab_type": "text"
      },
      "source": [
        "## <h2> <center>Text feature extraction</center></h2>"
      ]
    },
    {
      "cell_type": "code",
      "metadata": {
        "id": "RyxHH1RB6lnG",
        "colab_type": "code",
        "outputId": "7869e605-463b-4c9b-ead5-addbe89ac862",
        "colab": {
          "base_uri": "https://localhost:8080/",
          "height": 34
        }
      },
      "source": [
        "# todo: normalize if overfit\n",
        "from sklearn.feature_extraction.text import TfidfVectorizer\n",
        "from sklearn.feature_selection import SelectKBest, f_classif\n",
        "\n",
        "\n",
        "top_k = 10000\n",
        "\n",
        "tfidf = TfidfVectorizer(\n",
        "                    ngram_range = (1,2),\n",
        "                    dtype = 'int32',\n",
        "                    decode_error = 'replace',\n",
        "                    analyzer = 'word',\n",
        "                    min_df = 2,\n",
        "                    norm = 'l2'\n",
        "                    )\n",
        "tfidf_reviews = tfidf.fit_transform(movies['review'])\n",
        "\n",
        "# Select best 10,000(k) features, with feature importance measured by f_classif\n",
        "selector = SelectKBest(f_classif, k = min(top_k, tfidf_reviews.shape[1]))\n",
        "selector.fit(tfidf_reviews, movies['sentiment'])\n",
        "vect_reviews = selector.transform(tfidf_reviews).astype('float32')\n",
        "\n",
        "vect_reviews.shape"
      ],
      "execution_count": 4,
      "outputs": [
        {
          "output_type": "execute_result",
          "data": {
            "text/plain": [
              "(50000, 10000)"
            ]
          },
          "metadata": {
            "tags": []
          },
          "execution_count": 4
        }
      ]
    },
    {
      "cell_type": "markdown",
      "metadata": {
        "id": "SWuOj6_M3Py2",
        "colab_type": "text"
      },
      "source": [
        "## <h2> <center>Split the data</center></h2>"
      ]
    },
    {
      "cell_type": "code",
      "metadata": {
        "id": "x4UrMguq6lkM",
        "colab_type": "code",
        "outputId": "34e7e928-4e07-489f-b86e-d007f23e19fb",
        "colab": {
          "base_uri": "https://localhost:8080/",
          "height": 52
        }
      },
      "source": [
        "X = vect_reviews.toarray()\n",
        "y = (np.array(movies['sentiment']))\n",
        "\n",
        "# Here we split data to training and testing parts\n",
        "X_train, X_test, y_train, y_test = train_test_split(X, y, test_size=0.2, random_state=7)\n",
        "print(f\"Train dataset shape: {X_train.shape}, \\nTest dataset shape: {X_test.shape}\")"
      ],
      "execution_count": 5,
      "outputs": [
        {
          "output_type": "stream",
          "text": [
            "Train dataset shape: (40000, 10000), \n",
            "Test dataset shape: (10000, 10000)\n"
          ],
          "name": "stdout"
        }
      ]
    },
    {
      "cell_type": "code",
      "metadata": {
        "id": "264tvFeBzjcx",
        "colab_type": "code",
        "colab": {}
      },
      "source": [
        "def plot_confusion_matrix(y_true, y_pred, ax, class_names, vmax=None,\n",
        "                           normalized=True, title='Confusion matrix'):\n",
        "     matrix = confusion_matrix(y_true,y_pred)\n",
        "     if normalized:\n",
        "         matrix = matrix.astype('float') / matrix.sum(axis=1)[:, np.newaxis]\n",
        "     annot_kws = {'fontsize':25, \n",
        "                  'fontstyle': 'italic'}\n",
        "     sns.heatmap(matrix, vmax=vmax, annot=True,  annot_kws = annot_kws,\n",
        "                 square=True, ax=ax, cbar=False,\n",
        "                 cmap=sns.diverging_palette(20, 250, as_cmap=True), \n",
        "                  linecolor='black', linewidths=0.5,\n",
        "                  xticklabels=class_names)\n",
        "     ax.set_title(title, y=1.20, fontsize=16)\n",
        "     ax.set_ylabel('True labels', fontsize=12)\n",
        "     ax.set_xlabel('Predicted labels', y=1.10, fontsize=12)\n",
        "     ax.set_yticklabels(class_names, rotation=0)"
      ],
      "execution_count": 0,
      "outputs": []
    },
    {
      "cell_type": "markdown",
      "metadata": {
        "id": "NYCD63W63uom",
        "colab_type": "text"
      },
      "source": [
        "## <h2> <center>Modeling the data</center></h2>"
      ]
    },
    {
      "cell_type": "markdown",
      "metadata": {
        "id": "A2kiZWgA32OW",
        "colab_type": "text"
      },
      "source": [
        "### <h2> <center>Base Logistic Regression model</center></h2>"
      ]
    },
    {
      "cell_type": "code",
      "metadata": {
        "id": "tdRDnmIr8ktM",
        "colab_type": "code",
        "outputId": "c0635f07-049b-451e-8448-61df2fca2cd7",
        "colab": {
          "base_uri": "https://localhost:8080/",
          "height": 105
        }
      },
      "source": [
        "lr=LogisticRegression(max_iter=500 ,random_state=7, \n",
        "                      C = 10, penalty = 'l2') # found from Random Search \n",
        "lr.fit(X_train, y_train)"
      ],
      "execution_count": 7,
      "outputs": [
        {
          "output_type": "execute_result",
          "data": {
            "text/plain": [
              "LogisticRegression(C=10, class_weight=None, dual=False, fit_intercept=True,\n",
              "                   intercept_scaling=1, l1_ratio=None, max_iter=500,\n",
              "                   multi_class='auto', n_jobs=None, penalty='l2',\n",
              "                   random_state=7, solver='lbfgs', tol=0.0001, verbose=0,\n",
              "                   warm_start=False)"
            ]
          },
          "metadata": {
            "tags": []
          },
          "execution_count": 7
        }
      ]
    },
    {
      "cell_type": "code",
      "metadata": {
        "id": "ToZygKsC32qu",
        "colab_type": "code",
        "outputId": "3208046d-da4b-4957-dd62-b3232645637a",
        "colab": {
          "base_uri": "https://localhost:8080/",
          "height": 52
        }
      },
      "source": [
        "pred = lr.predict(X_test)\n",
        "pred_train = lr.predict(X_train)\n",
        "print(\"Training set Accuracy: \", accuracy_score(pred_train, y_train)*100)\n",
        "print(\"Test set Accuracy: \", accuracy_score(pred, y_test)*100)"
      ],
      "execution_count": 8,
      "outputs": [
        {
          "output_type": "stream",
          "text": [
            "Training set Accuracy:  93.04249999999999\n",
            "Test set Accuracy:  90.75999999999999\n"
          ],
          "name": "stdout"
        }
      ]
    },
    {
      "cell_type": "code",
      "metadata": {
        "id": "CcP1ntPtzqNg",
        "colab_type": "code",
        "colab": {
          "base_uri": "https://localhost:8080/",
          "height": 300
        },
        "outputId": "854cbd42-935a-460c-e743-8ef1f63b67e7"
      },
      "source": [
        "fig, axis1 = plt.subplots(nrows=1, ncols=1)\n",
        "plot_confusion_matrix(y_test, pred, ax=axis1,\n",
        "                       title='Confusion matrix (lr)',\n",
        "                       class_names=['Positive', 'Negative'])"
      ],
      "execution_count": 9,
      "outputs": [
        {
          "output_type": "display_data",
          "data": {
            "image/png": "[encoded data removed]",
            "text/plain": [
              "<Figure size 432x288 with 1 Axes>"
            ]
          },
          "metadata": {
            "tags": [],
            "needs_background": "light"
          }
        }
      ]
    },
    {
      "cell_type": "code",
      "metadata": {
        "id": "_GJ3eODG321r",
        "colab_type": "code",
        "outputId": "4c2f06eb-bd4b-4f09-83a9-b8ee865f3e63",
        "colab": {
          "base_uri": "https://localhost:8080/",
          "height": 34
        }
      },
      "source": [
        "penalty = ['l2']\n",
        "# Create regularization hyperparameter distribution using uniform distribution\n",
        "C = [0.3, 1, 10, 30]\n",
        "logistic = LogisticRegression()\n",
        "# Create hyperparameter options\n",
        "hyperparameters = dict(C=C,penalty=penalty)\n",
        "pprint(hyperparameters)\n",
        "lr_best = GridSearchCV(logistic, hyperparameters, scoring = 'accuracy', n_jobs =2,\n",
        "                       cv = 2, verbose = 1, refit=True, return_train_score = True)"
      ],
      "execution_count": 0,
      "outputs": [
        {
          "output_type": "stream",
          "text": [
            "{'C': [0.3, 1, 3, 9, 10], 'penalty': ['l2']}\n"
          ],
          "name": "stdout"
        }
      ]
    },
    {
      "cell_type": "code",
      "metadata": {
        "id": "TLUlR4Yi326-",
        "colab_type": "code",
        "outputId": "d4090a51-01ee-44d6-956d-0c0572798994",
        "colab": {
          "base_uri": "https://localhost:8080/",
          "height": 299
        }
      },
      "source": [
        "lr_best.fit(X_train, y_train)"
      ],
      "execution_count": 0,
      "outputs": [
        {
          "output_type": "stream",
          "text": [
            "Fitting 2 folds for each of 5 candidates, totalling 10 fits\n"
          ],
          "name": "stdout"
        },
        {
          "output_type": "stream",
          "text": [
            "[Parallel(n_jobs=1)]: Using backend SequentialBackend with 1 concurrent workers.\n",
            "[Parallel(n_jobs=1)]: Done  10 out of  10 | elapsed:  2.3min finished\n"
          ],
          "name": "stderr"
        },
        {
          "output_type": "execute_result",
          "data": {
            "text/plain": [
              "GridSearchCV(cv=2, error_score=nan,\n",
              "             estimator=LogisticRegression(C=1.0, class_weight=None, dual=False,\n",
              "                                          fit_intercept=True,\n",
              "                                          intercept_scaling=1, l1_ratio=None,\n",
              "                                          max_iter=100, multi_class='auto',\n",
              "                                          n_jobs=None, penalty='l2',\n",
              "                                          random_state=None, solver='lbfgs',\n",
              "                                          tol=0.0001, verbose=0,\n",
              "                                          warm_start=False),\n",
              "             iid='deprecated', n_jobs=None,\n",
              "             param_grid={'C': [0.3, 1, 3, 9, 10], 'penalty': ['l2']},\n",
              "             pre_dispatch='2*n_jobs', refit=True, return_train_score=True,\n",
              "             scoring='accuracy', verbose=1)"
            ]
          },
          "metadata": {
            "tags": []
          },
          "execution_count": 12
        }
      ]
    },
    {
      "cell_type": "code",
      "metadata": {
        "id": "1mg3SMY733CI",
        "colab_type": "code",
        "outputId": "69be681c-3e0e-493e-fcf5-f46e464a7ee7",
        "colab": {
          "base_uri": "https://localhost:8080/",
          "height": 70
        }
      },
      "source": [
        "lr_best_penalty = lr_best.best_estimator_.get_params()['penalty']\n",
        "lr_best_c = lr_best.best_estimator_.get_params()['C']\n",
        "print(f'Best Penalty: {lr_best_penalty}')\n",
        "print(f'Best C: {lr_best_c}')\n",
        "\n",
        "lr_best.best_params_"
      ],
      "execution_count": 0,
      "outputs": [
        {
          "output_type": "stream",
          "text": [
            "Best Penalty: l2\n",
            "Best C: 10\n"
          ],
          "name": "stdout"
        },
        {
          "output_type": "execute_result",
          "data": {
            "text/plain": [
              "{'C': 10, 'penalty': 'l2'}"
            ]
          },
          "metadata": {
            "tags": []
          },
          "execution_count": 13
        }
      ]
    },
    {
      "cell_type": "code",
      "metadata": {
        "id": "VoiwUsvU33Gz",
        "colab_type": "code",
        "outputId": "afce5cfa-7845-46f3-8144-50a2a7d0896c",
        "colab": {
          "base_uri": "https://localhost:8080/",
          "height": 163
        }
      },
      "source": [
        "pred = lr_best.predict(X_test)\n",
        "pred_train = lr_best.predict(X_train)\n",
        "print(\"Training set Accuracy: \", accuracy_score(pred_train, y_train)*100)\n",
        "print(\"Test set Accuracy: \", accuracy_score(pred, y_test)*100)\n",
        "\n",
        "print(\"Confusion Matrix:\")\n",
        "pd.DataFrame(confusion_matrix(pred, y_test))"
      ],
      "execution_count": 0,
      "outputs": [
        {
          "output_type": "stream",
          "text": [
            "Training set Accuracy:  93.045\n",
            "Test set Accuracy:  90.73\n",
            "Confusion Matrix:\n"
          ],
          "name": "stdout"
        },
        {
          "output_type": "execute_result",
          "data": {
            "text/html": [
              "<div>\n",
              "<style scoped>\n",
              "    .dataframe tbody tr th:only-of-type {\n",
              "        vertical-align: middle;\n",
              "    }\n",
              "\n",
              "    .dataframe tbody tr th {\n",
              "        vertical-align: top;\n",
              "    }\n",
              "\n",
              "    .dataframe thead th {\n",
              "        text-align: right;\n",
              "    }\n",
              "</style>\n",
              "<table border=\"1\" class=\"dataframe\">\n",
              "  <thead>\n",
              "    <tr style=\"text-align: right;\">\n",
              "      <th></th>\n",
              "      <th>0</th>\n",
              "      <th>1</th>\n",
              "    </tr>\n",
              "  </thead>\n",
              "  <tbody>\n",
              "    <tr>\n",
              "      <th>0</th>\n",
              "      <td>4480</td>\n",
              "      <td>422</td>\n",
              "    </tr>\n",
              "    <tr>\n",
              "      <th>1</th>\n",
              "      <td>505</td>\n",
              "      <td>4593</td>\n",
              "    </tr>\n",
              "  </tbody>\n",
              "</table>\n",
              "</div>"
            ],
            "text/plain": [
              "      0     1\n",
              "0  4480   422\n",
              "1   505  4593"
            ]
          },
          "metadata": {
            "tags": []
          },
          "execution_count": 14
        }
      ]
    },
    {
      "cell_type": "markdown",
      "metadata": {
        "id": "7ZVPi9WvNSBa",
        "colab_type": "text"
      },
      "source": [
        "### <h2> <center>SVM Classifier</center></h2>"
      ]
    },
    {
      "cell_type": "code",
      "metadata": {
        "id": "6DfHwVYS33MX",
        "colab_type": "code",
        "outputId": "c2170f76-052f-4770-e762-8f47f72b47d0",
        "colab": {
          "base_uri": "https://localhost:8080/",
          "height": 123
        }
      },
      "source": [
        "svm = SGDClassifier(random_state = 7, penalty = 'l2', loss = 'hinge')\n",
        "\n",
        "svm.fit(X_train,y_train)"
      ],
      "execution_count": 10,
      "outputs": [
        {
          "output_type": "execute_result",
          "data": {
            "text/plain": [
              "SGDClassifier(alpha=0.0001, average=False, class_weight=None,\n",
              "              early_stopping=False, epsilon=0.1, eta0=0.0, fit_intercept=True,\n",
              "              l1_ratio=0.15, learning_rate='optimal', loss='hinge',\n",
              "              max_iter=1000, n_iter_no_change=5, n_jobs=None, penalty='l2',\n",
              "              power_t=0.5, random_state=7, shuffle=True, tol=0.001,\n",
              "              validation_fraction=0.1, verbose=0, warm_start=False)"
            ]
          },
          "metadata": {
            "tags": []
          },
          "execution_count": 10
        }
      ]
    },
    {
      "cell_type": "code",
      "metadata": {
        "id": "LPmUcLrd33Rg",
        "colab_type": "code",
        "outputId": "d08ba8d2-92c0-4975-e3f7-e100fd945043",
        "colab": {
          "base_uri": "https://localhost:8080/",
          "height": 52
        }
      },
      "source": [
        "pred = svm.predict(X_test)\n",
        "pred_train = svm.predict(X_train)\n",
        "print(\"Training set Accuracy: \", accuracy_score(pred_train, y_train)*100)\n",
        "print(\"Test set Accuracy: \", accuracy_score(pred, y_test)*100)"
      ],
      "execution_count": 11,
      "outputs": [
        {
          "output_type": "stream",
          "text": [
            "Training set Accuracy:  89.595\n",
            "Test set Accuracy:  88.96\n"
          ],
          "name": "stdout"
        }
      ]
    },
    {
      "cell_type": "code",
      "metadata": {
        "id": "wpYTp92f0duS",
        "colab_type": "code",
        "colab": {
          "base_uri": "https://localhost:8080/",
          "height": 300
        },
        "outputId": "353f6b01-e252-48ab-bd07-0558f96a967e"
      },
      "source": [
        "fig, axis1 = plt.subplots(nrows=1, ncols=1)\n",
        "plot_confusion_matrix(y_test, pred, ax=axis1,\n",
        "                       title='Confusion matrix (svm)',\n",
        "                       class_names=['Positive', 'Negative'])"
      ],
      "execution_count": 12,
      "outputs": [
        {
          "output_type": "display_data",
          "data": {
            "image/png": "[encoded data removed]",
            "text/plain": [
              "<Figure size 432x288 with 1 Axes>"
            ]
          },
          "metadata": {
            "tags": [],
            "needs_background": "light"
          }
        }
      ]
    },
    {
      "cell_type": "markdown",
      "metadata": {
        "id": "-mcblkUzWpzW",
        "colab_type": "text"
      },
      "source": [
        "### <h2> <center>Multinomial Bayes Classifier</center></h2>"
      ]
    },
    {
      "cell_type": "code",
      "metadata": {
        "id": "ZEh4kqL032_6",
        "colab_type": "code",
        "outputId": "112a0bb2-c03c-4bf3-88ed-38f54ff6fdc8",
        "colab": {
          "base_uri": "https://localhost:8080/",
          "height": 34
        }
      },
      "source": [
        "#training the model\n",
        "mnb = MultinomialNB(alpha = 0.001) # best alpha found from Grid Search\n",
        "#fitting the svm for bag of words\n",
        "mnb.fit(X_train, y_train)"
      ],
      "execution_count": 13,
      "outputs": [
        {
          "output_type": "execute_result",
          "data": {
            "text/plain": [
              "MultinomialNB(alpha=0.001, class_prior=None, fit_prior=True)"
            ]
          },
          "metadata": {
            "tags": []
          },
          "execution_count": 13
        }
      ]
    },
    {
      "cell_type": "code",
      "metadata": {
        "id": "A3RJ_dZy3294",
        "colab_type": "code",
        "outputId": "37897611-6099-497b-df1d-b2f288d45159",
        "colab": {
          "base_uri": "https://localhost:8080/",
          "height": 52
        }
      },
      "source": [
        "pred = mnb.predict(X_test)\n",
        "pred_train = mnb.predict(X_train)\n",
        "print(\"Training set Accuracy: \", accuracy_score(pred_train, y_train)*100)\n",
        "print(\"Test set Accuracy: \", accuracy_score(pred, y_test)*100)"
      ],
      "execution_count": 14,
      "outputs": [
        {
          "output_type": "stream",
          "text": [
            "Training set Accuracy:  91.1225\n",
            "Test set Accuracy:  90.48\n"
          ],
          "name": "stdout"
        }
      ]
    },
    {
      "cell_type": "code",
      "metadata": {
        "id": "Kl_CdtLr0lEN",
        "colab_type": "code",
        "colab": {
          "base_uri": "https://localhost:8080/",
          "height": 300
        },
        "outputId": "6d218c6a-9121-4ff8-a1bd-839f2d8e3a44"
      },
      "source": [
        "fig, axis1 = plt.subplots(nrows=1, ncols=1)\n",
        "plot_confusion_matrix(y_test, pred, ax=axis1,\n",
        "                       title='Confusion matrix (Multinomial Naive Bayes)',\n",
        "                       class_names=['Positive', 'Negative'])"
      ],
      "execution_count": 15,
      "outputs": [
        {
          "output_type": "display_data",
          "data": {
            "image/png": "[encoded data removed]",
            "text/plain": [
              "<Figure size 432x288 with 1 Axes>"
            ]
          },
          "metadata": {
            "tags": [],
            "needs_background": "light"
          }
        }
      ]
    },
    {
      "cell_type": "code",
      "metadata": {
        "id": "mVuuNHrf324g",
        "colab_type": "code",
        "outputId": "2d6aff7f-12a6-4f17-91a2-4640a126ea39",
        "colab": {
          "base_uri": "https://localhost:8080/",
          "height": 34
        }
      },
      "source": [
        "alpha =  [100, 10, 1, 0.1, 0.001, 0.0001, 0.00001]\n",
        "hyperparam = dict(alpha = alpha)\n",
        "mnb_best = GridSearchCV(mnb, hyperparam, scoring = 'accuracy', cv = 3, refit = True, verbose = 1, return_train_score = True)\n",
        "pprint(hyperparam)"
      ],
      "execution_count": 0,
      "outputs": [
        {
          "output_type": "stream",
          "text": [
            "{'alpha': [100, 10, 1, 0.1, 0.001, 0.0001, 1e-05]}\n"
          ],
          "name": "stdout"
        }
      ]
    },
    {
      "cell_type": "code",
      "metadata": {
        "id": "y6UphG0e32z3",
        "colab_type": "code",
        "outputId": "14575b8d-c6c0-4d14-a482-16896a4132e1",
        "colab": {
          "base_uri": "https://localhost:8080/",
          "height": 193
        }
      },
      "source": [
        "mnb_best.fit(X_train, y_train)"
      ],
      "execution_count": 0,
      "outputs": [
        {
          "output_type": "stream",
          "text": [
            "Fitting 3 folds for each of 7 candidates, totalling 21 fits\n"
          ],
          "name": "stdout"
        },
        {
          "output_type": "stream",
          "text": [
            "[Parallel(n_jobs=1)]: Using backend SequentialBackend with 1 concurrent workers.\n",
            "[Parallel(n_jobs=1)]: Done  21 out of  21 | elapsed:  1.2min finished\n"
          ],
          "name": "stderr"
        },
        {
          "output_type": "execute_result",
          "data": {
            "text/plain": [
              "GridSearchCV(cv=3, error_score=nan,\n",
              "             estimator=MultinomialNB(alpha=0.001, class_prior=None,\n",
              "                                     fit_prior=True),\n",
              "             iid='deprecated', n_jobs=None,\n",
              "             param_grid={'alpha': [100, 10, 1, 0.1, 0.001, 0.0001, 1e-05]},\n",
              "             pre_dispatch='2*n_jobs', refit=True, return_train_score=True,\n",
              "             scoring='accuracy', verbose=1)"
            ]
          },
          "metadata": {
            "tags": []
          },
          "execution_count": 20
        }
      ]
    },
    {
      "cell_type": "code",
      "metadata": {
        "id": "0pfCV5SM32yB",
        "colab_type": "code",
        "outputId": "dd14c4cf-7cb0-46d5-aab9-79ef8aebf97c",
        "colab": {
          "base_uri": "https://localhost:8080/",
          "height": 52
        }
      },
      "source": [
        "mnb_best_alpha = mnb_best.best_estimator_.get_params()['alpha']\n",
        "print(f'Best alpha: {mnb_best_alpha}')\n",
        "mnb_best.best_params_"
      ],
      "execution_count": 0,
      "outputs": [
        {
          "output_type": "stream",
          "text": [
            "Best alpha: 0.001\n"
          ],
          "name": "stdout"
        },
        {
          "output_type": "execute_result",
          "data": {
            "text/plain": [
              "{'alpha': 0.001}"
            ]
          },
          "metadata": {
            "tags": []
          },
          "execution_count": 21
        }
      ]
    },
    {
      "cell_type": "code",
      "metadata": {
        "id": "3lTPDIlye99B",
        "colab_type": "code",
        "outputId": "f61be735-360e-4ddc-88b1-580204b2e667",
        "colab": {
          "base_uri": "https://localhost:8080/",
          "height": 163
        }
      },
      "source": [
        "pred = mnb_best.predict(X_test)\n",
        "pred_train = mnb_best.predict(X_train)\n",
        "print(\"Training set Accuracy: \", accuracy_score(pred_train, y_train)*100)\n",
        "print(\"Test set Accuracy: \", accuracy_score(pred, y_test)*100)\n",
        "\n",
        "print(\"Confusion Matrix:\")\n",
        "pd.DataFrame(confusion_matrix(pred, y_test))"
      ],
      "execution_count": 0,
      "outputs": [
        {
          "output_type": "stream",
          "text": [
            "Training set Accuracy:  91.1225\n",
            "Test set Accuracy:  90.48\n",
            "Confusion Matrix:\n"
          ],
          "name": "stdout"
        },
        {
          "output_type": "execute_result",
          "data": {
            "text/html": [
              "<div>\n",
              "<style scoped>\n",
              "    .dataframe tbody tr th:only-of-type {\n",
              "        vertical-align: middle;\n",
              "    }\n",
              "\n",
              "    .dataframe tbody tr th {\n",
              "        vertical-align: top;\n",
              "    }\n",
              "\n",
              "    .dataframe thead th {\n",
              "        text-align: right;\n",
              "    }\n",
              "</style>\n",
              "<table border=\"1\" class=\"dataframe\">\n",
              "  <thead>\n",
              "    <tr style=\"text-align: right;\">\n",
              "      <th></th>\n",
              "      <th>0</th>\n",
              "      <th>1</th>\n",
              "    </tr>\n",
              "  </thead>\n",
              "  <tbody>\n",
              "    <tr>\n",
              "      <th>0</th>\n",
              "      <td>4478</td>\n",
              "      <td>445</td>\n",
              "    </tr>\n",
              "    <tr>\n",
              "      <th>1</th>\n",
              "      <td>507</td>\n",
              "      <td>4570</td>\n",
              "    </tr>\n",
              "  </tbody>\n",
              "</table>\n",
              "</div>"
            ],
            "text/plain": [
              "      0     1\n",
              "0  4478   445\n",
              "1   507  4570"
            ]
          },
          "metadata": {
            "tags": []
          },
          "execution_count": 22
        }
      ]
    },
    {
      "cell_type": "markdown",
      "metadata": {
        "id": "32o-rgkxg6SU",
        "colab_type": "text"
      },
      "source": [
        "### <h2> <center>Random Forest Classifier</center></h2>"
      ]
    },
    {
      "cell_type": "code",
      "metadata": {
        "id": "Ciyt74XNe-RF",
        "colab_type": "code",
        "outputId": "adc0c14b-48cf-46df-c349-0da95a6e8a09",
        "colab": {
          "base_uri": "https://localhost:8080/",
          "height": 158
        }
      },
      "source": [
        "# takes a lot of time ...\n",
        "rf = RandomForestClassifier(max_depth = 100, \n",
        "                            n_estimators = 500,\n",
        "                            min_samples_leaf = 5,\n",
        "                            min_samples_split = 2,\n",
        "                            max_features = 'sqrt',\n",
        "                            random_state = 7)  # found from Random Search\n",
        "\n",
        "rf.fit(X_train, y_train)"
      ],
      "execution_count": 16,
      "outputs": [
        {
          "output_type": "execute_result",
          "data": {
            "text/plain": [
              "RandomForestClassifier(bootstrap=True, ccp_alpha=0.0, class_weight=None,\n",
              "                       criterion='gini', max_depth=100, max_features='sqrt',\n",
              "                       max_leaf_nodes=None, max_samples=None,\n",
              "                       min_impurity_decrease=0.0, min_impurity_split=None,\n",
              "                       min_samples_leaf=5, min_samples_split=2,\n",
              "                       min_weight_fraction_leaf=0.0, n_estimators=500,\n",
              "                       n_jobs=None, oob_score=False, random_state=7, verbose=0,\n",
              "                       warm_start=False)"
            ]
          },
          "metadata": {
            "tags": []
          },
          "execution_count": 16
        }
      ]
    },
    {
      "cell_type": "code",
      "metadata": {
        "id": "41kWlQ8ye-Yb",
        "colab_type": "code",
        "outputId": "a8814ec3-5716-487e-86d7-615f6971bfbc",
        "colab": {
          "base_uri": "https://localhost:8080/",
          "height": 52
        }
      },
      "source": [
        "pred = rf.predict(X_test)\n",
        "pred_train = rf.predict(X_train)\n",
        "print(\"Training set Accuracy: \", accuracy_score(pred_train, y_train)*100)\n",
        "print(\"Test set Accuracy: \", accuracy_score(pred, y_test)*100)"
      ],
      "execution_count": 17,
      "outputs": [
        {
          "output_type": "stream",
          "text": [
            "Training set Accuracy:  95.2325\n",
            "Test set Accuracy:  85.87\n"
          ],
          "name": "stdout"
        }
      ]
    },
    {
      "cell_type": "code",
      "metadata": {
        "id": "Ucw1NBlS0t7F",
        "colab_type": "code",
        "colab": {
          "base_uri": "https://localhost:8080/",
          "height": 300
        },
        "outputId": "6623064a-0e50-4fd2-f3a3-5ce6b8cb8747"
      },
      "source": [
        "fig, axis1 = plt.subplots(nrows=1, ncols=1)\n",
        "plot_confusion_matrix(y_test, pred, ax=axis1,\n",
        "                       title='Confusion matrix (Random Forest)',\n",
        "                       class_names=['Positive', 'Negative'])"
      ],
      "execution_count": 18,
      "outputs": [
        {
          "output_type": "display_data",
          "data": {
            "image/png": "[encoded data removed]",
            "text/plain": [
              "<Figure size 432x288 with 1 Axes>"
            ]
          },
          "metadata": {
            "tags": [],
            "needs_background": "light"
          }
        }
      ]
    },
    {
      "cell_type": "code",
      "metadata": {
        "id": "uKQiYZ1Fe-cP",
        "colab_type": "code",
        "outputId": "8aa62118-8b5a-4be8-cf30-ec77c4bced5e",
        "colab": {
          "base_uri": "https://localhost:8080/",
          "height": 105
        }
      },
      "source": [
        "n_estimators = [int(x) for x in np.linspace(start = 100, stop = 1000, num = 3)]\n",
        "max_features = ['auto', 'sqrt']\n",
        "max_depth = [int(x) for x in np.linspace(10, 100, num = 3)]\n",
        "min_samples_split = [2, 5, 10]\n",
        "min_samples_leaf = [1, 2, 4]\n",
        "bootstrap = [True, False]\n",
        "\n",
        "hyperparam = {'n_estimators': n_estimators,\n",
        "               'max_features': max_features,\n",
        "               'max_depth': max_depth,\n",
        "               'min_samples_split': min_samples_split,\n",
        "               'min_samples_leaf': min_samples_leaf,\n",
        "               }\n",
        "pprint(hyperparam)\n",
        "rf_temp = RandomForestClassifier()\n",
        "rf_random = RandomizedSearchCV(rf_temp, hyperparam, cv = 2, n_iter = 10, verbose = 1,\n",
        "                        refit = False, return_train_score = True)"
      ],
      "execution_count": 0,
      "outputs": [
        {
          "output_type": "stream",
          "text": [
            "{'max_depth': [10, 55, 100],\n",
            " 'max_features': ['auto', 'sqrt'],\n",
            " 'min_samples_leaf': [1, 2, 4],\n",
            " 'min_samples_split': [2, 5, 10],\n",
            " 'n_estimators': [100, 550, 1000]}\n"
          ],
          "name": "stdout"
        }
      ]
    },
    {
      "cell_type": "code",
      "metadata": {
        "id": "zZX_tnCCe-XA",
        "colab_type": "code",
        "colab": {}
      },
      "source": [
        "# takes a lot of time ...\n",
        "# rf_random.fit(X_train, y_train)"
      ],
      "execution_count": 0,
      "outputs": []
    },
    {
      "cell_type": "code",
      "metadata": {
        "id": "x_AEUTjIe-VE",
        "colab_type": "code",
        "colab": {}
      },
      "source": [
        "# pprint(rf_random.best_params_)"
      ],
      "execution_count": 0,
      "outputs": []
    },
    {
      "cell_type": "markdown",
      "metadata": {
        "id": "zFb6H3JyoZGp",
        "colab_type": "text"
      },
      "source": [
        "* The best models were Multinomial Naive Bayes and Logistic regression.\n",
        "* Random forest seems to be overfitting."
      ]
    },
    {
      "cell_type": "code",
      "metadata": {
        "id": "g8Udwt0UkBfu",
        "colab_type": "code",
        "colab": {}
      },
      "source": [
        ""
      ],
      "execution_count": 0,
      "outputs": []
    }
  ]
}